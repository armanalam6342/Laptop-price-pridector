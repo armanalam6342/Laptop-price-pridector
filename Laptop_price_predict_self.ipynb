{
  "nbformat": 4,
  "nbformat_minor": 0,
  "metadata": {
    "colab": {
      "name": "Laptop price predict self.ipynb",
      "provenance": [],
      "collapsed_sections": [],
      "mount_file_id": "17GT4Y0h0MJww84wZV08PXniCckqWWnJQ",
      "authorship_tag": "ABX9TyORXnUZACJJ7jdddDJlvfSr",
      "include_colab_link": true
    },
    "kernelspec": {
      "name": "python3",
      "display_name": "Python 3"
    },
    "language_info": {
      "name": "python"
    }
  },
  "cells": [
    {
      "cell_type": "markdown",
      "metadata": {
        "id": "view-in-github",
        "colab_type": "text"
      },
      "source": [
        "<a href=\"https://colab.research.google.com/github/armanalam6342/Laptop-price-pridector/blob/main/Laptop_price_predict_self.ipynb\" target=\"_parent\"><img src=\"https://colab.research.google.com/assets/colab-badge.svg\" alt=\"Open In Colab\"/></a>"
      ]
    },
    {
      "cell_type": "code",
      "metadata": {
        "id": "0i8yNW0FPfcy"
      },
      "source": [
        "import pandas as pd\n",
        "import numpy as np\n",
        "import matplotlib.pyplot as plt\n",
        "import seaborn as sns"
      ],
      "execution_count": 93,
      "outputs": []
    },
    {
      "cell_type": "code",
      "metadata": {
        "id": "6-I1WqobPxLI"
      },
      "source": [
        "df=pd.read_csv(\"/content/drive/MyDrive/housing data/laptop_data.csv\")"
      ],
      "execution_count": 94,
      "outputs": []
    },
    {
      "cell_type": "code",
      "metadata": {
        "id": "nt1ClevJQG50",
        "colab": {
          "base_uri": "https://localhost:8080/",
          "height": 289
        },
        "outputId": "bdf9c34e-5d1d-416c-d0ec-816cf975f058"
      },
      "source": [
        "df.head()"
      ],
      "execution_count": 95,
      "outputs": [
        {
          "output_type": "execute_result",
          "data": {
            "text/html": [
              "<div>\n",
              "<style scoped>\n",
              "    .dataframe tbody tr th:only-of-type {\n",
              "        vertical-align: middle;\n",
              "    }\n",
              "\n",
              "    .dataframe tbody tr th {\n",
              "        vertical-align: top;\n",
              "    }\n",
              "\n",
              "    .dataframe thead th {\n",
              "        text-align: right;\n",
              "    }\n",
              "</style>\n",
              "<table border=\"1\" class=\"dataframe\">\n",
              "  <thead>\n",
              "    <tr style=\"text-align: right;\">\n",
              "      <th></th>\n",
              "      <th>Company</th>\n",
              "      <th>TypeName</th>\n",
              "      <th>Inches</th>\n",
              "      <th>ScreenResolution</th>\n",
              "      <th>Cpu</th>\n",
              "      <th>Ram</th>\n",
              "      <th>Memory</th>\n",
              "      <th>Gpu</th>\n",
              "      <th>OpSys</th>\n",
              "      <th>Weight</th>\n",
              "      <th>Price</th>\n",
              "    </tr>\n",
              "  </thead>\n",
              "  <tbody>\n",
              "    <tr>\n",
              "      <th>0</th>\n",
              "      <td>Apple</td>\n",
              "      <td>Ultrabook</td>\n",
              "      <td>13.3</td>\n",
              "      <td>IPS Panel Retina Display 2560x1600</td>\n",
              "      <td>Intel Core i5 2.3GHz</td>\n",
              "      <td>8GB</td>\n",
              "      <td>128GB SSD</td>\n",
              "      <td>Intel Iris Plus Graphics 640</td>\n",
              "      <td>macOS</td>\n",
              "      <td>1.37kg</td>\n",
              "      <td>71378.6832</td>\n",
              "    </tr>\n",
              "    <tr>\n",
              "      <th>1</th>\n",
              "      <td>Apple</td>\n",
              "      <td>Ultrabook</td>\n",
              "      <td>13.3</td>\n",
              "      <td>1440x900</td>\n",
              "      <td>Intel Core i5 1.8GHz</td>\n",
              "      <td>8GB</td>\n",
              "      <td>128GB Flash Storage</td>\n",
              "      <td>Intel HD Graphics 6000</td>\n",
              "      <td>macOS</td>\n",
              "      <td>1.34kg</td>\n",
              "      <td>47895.5232</td>\n",
              "    </tr>\n",
              "    <tr>\n",
              "      <th>2</th>\n",
              "      <td>HP</td>\n",
              "      <td>Notebook</td>\n",
              "      <td>15.6</td>\n",
              "      <td>Full HD 1920x1080</td>\n",
              "      <td>Intel Core i5 7200U 2.5GHz</td>\n",
              "      <td>8GB</td>\n",
              "      <td>256GB SSD</td>\n",
              "      <td>Intel HD Graphics 620</td>\n",
              "      <td>No OS</td>\n",
              "      <td>1.86kg</td>\n",
              "      <td>30636.0000</td>\n",
              "    </tr>\n",
              "    <tr>\n",
              "      <th>3</th>\n",
              "      <td>Apple</td>\n",
              "      <td>Ultrabook</td>\n",
              "      <td>15.4</td>\n",
              "      <td>IPS Panel Retina Display 2880x1800</td>\n",
              "      <td>Intel Core i7 2.7GHz</td>\n",
              "      <td>16GB</td>\n",
              "      <td>512GB SSD</td>\n",
              "      <td>AMD Radeon Pro 455</td>\n",
              "      <td>macOS</td>\n",
              "      <td>1.83kg</td>\n",
              "      <td>135195.3360</td>\n",
              "    </tr>\n",
              "    <tr>\n",
              "      <th>4</th>\n",
              "      <td>Apple</td>\n",
              "      <td>Ultrabook</td>\n",
              "      <td>13.3</td>\n",
              "      <td>IPS Panel Retina Display 2560x1600</td>\n",
              "      <td>Intel Core i5 3.1GHz</td>\n",
              "      <td>8GB</td>\n",
              "      <td>256GB SSD</td>\n",
              "      <td>Intel Iris Plus Graphics 650</td>\n",
              "      <td>macOS</td>\n",
              "      <td>1.37kg</td>\n",
              "      <td>96095.8080</td>\n",
              "    </tr>\n",
              "  </tbody>\n",
              "</table>\n",
              "</div>"
            ],
            "text/plain": [
              "  Company   TypeName  Inches  ...  OpSys  Weight        Price\n",
              "0   Apple  Ultrabook    13.3  ...  macOS  1.37kg   71378.6832\n",
              "1   Apple  Ultrabook    13.3  ...  macOS  1.34kg   47895.5232\n",
              "2      HP   Notebook    15.6  ...  No OS  1.86kg   30636.0000\n",
              "3   Apple  Ultrabook    15.4  ...  macOS  1.83kg  135195.3360\n",
              "4   Apple  Ultrabook    13.3  ...  macOS  1.37kg   96095.8080\n",
              "\n",
              "[5 rows x 11 columns]"
            ]
          },
          "metadata": {},
          "execution_count": 95
        }
      ]
    },
    {
      "cell_type": "code",
      "metadata": {
        "id": "ns2pyV4sQIaJ"
      },
      "source": [
        "import pandas as pd\n",
        "import numpy as np\n",
        "import matplotlib.pyplot as plt\n",
        "import seaborn as sns"
      ],
      "execution_count": 96,
      "outputs": []
    },
    {
      "cell_type": "code",
      "metadata": {
        "id": "dsdZ6TsQQ5G5"
      },
      "source": [
        "df=pd.read_csv(\"/content/drive/MyDrive/housing data/laptop_data.csv\")"
      ],
      "execution_count": 97,
      "outputs": []
    },
    {
      "cell_type": "code",
      "metadata": {
        "colab": {
          "base_uri": "https://localhost:8080/",
          "height": 289
        },
        "id": "3MV-qasxRFCg",
        "outputId": "ec5bcfdd-94c4-4065-e589-6a8512a9c728"
      },
      "source": [
        "df.head()"
      ],
      "execution_count": 98,
      "outputs": [
        {
          "output_type": "execute_result",
          "data": {
            "text/html": [
              "<div>\n",
              "<style scoped>\n",
              "    .dataframe tbody tr th:only-of-type {\n",
              "        vertical-align: middle;\n",
              "    }\n",
              "\n",
              "    .dataframe tbody tr th {\n",
              "        vertical-align: top;\n",
              "    }\n",
              "\n",
              "    .dataframe thead th {\n",
              "        text-align: right;\n",
              "    }\n",
              "</style>\n",
              "<table border=\"1\" class=\"dataframe\">\n",
              "  <thead>\n",
              "    <tr style=\"text-align: right;\">\n",
              "      <th></th>\n",
              "      <th>Company</th>\n",
              "      <th>TypeName</th>\n",
              "      <th>Inches</th>\n",
              "      <th>ScreenResolution</th>\n",
              "      <th>Cpu</th>\n",
              "      <th>Ram</th>\n",
              "      <th>Memory</th>\n",
              "      <th>Gpu</th>\n",
              "      <th>OpSys</th>\n",
              "      <th>Weight</th>\n",
              "      <th>Price</th>\n",
              "    </tr>\n",
              "  </thead>\n",
              "  <tbody>\n",
              "    <tr>\n",
              "      <th>0</th>\n",
              "      <td>Apple</td>\n",
              "      <td>Ultrabook</td>\n",
              "      <td>13.3</td>\n",
              "      <td>IPS Panel Retina Display 2560x1600</td>\n",
              "      <td>Intel Core i5 2.3GHz</td>\n",
              "      <td>8GB</td>\n",
              "      <td>128GB SSD</td>\n",
              "      <td>Intel Iris Plus Graphics 640</td>\n",
              "      <td>macOS</td>\n",
              "      <td>1.37kg</td>\n",
              "      <td>71378.6832</td>\n",
              "    </tr>\n",
              "    <tr>\n",
              "      <th>1</th>\n",
              "      <td>Apple</td>\n",
              "      <td>Ultrabook</td>\n",
              "      <td>13.3</td>\n",
              "      <td>1440x900</td>\n",
              "      <td>Intel Core i5 1.8GHz</td>\n",
              "      <td>8GB</td>\n",
              "      <td>128GB Flash Storage</td>\n",
              "      <td>Intel HD Graphics 6000</td>\n",
              "      <td>macOS</td>\n",
              "      <td>1.34kg</td>\n",
              "      <td>47895.5232</td>\n",
              "    </tr>\n",
              "    <tr>\n",
              "      <th>2</th>\n",
              "      <td>HP</td>\n",
              "      <td>Notebook</td>\n",
              "      <td>15.6</td>\n",
              "      <td>Full HD 1920x1080</td>\n",
              "      <td>Intel Core i5 7200U 2.5GHz</td>\n",
              "      <td>8GB</td>\n",
              "      <td>256GB SSD</td>\n",
              "      <td>Intel HD Graphics 620</td>\n",
              "      <td>No OS</td>\n",
              "      <td>1.86kg</td>\n",
              "      <td>30636.0000</td>\n",
              "    </tr>\n",
              "    <tr>\n",
              "      <th>3</th>\n",
              "      <td>Apple</td>\n",
              "      <td>Ultrabook</td>\n",
              "      <td>15.4</td>\n",
              "      <td>IPS Panel Retina Display 2880x1800</td>\n",
              "      <td>Intel Core i7 2.7GHz</td>\n",
              "      <td>16GB</td>\n",
              "      <td>512GB SSD</td>\n",
              "      <td>AMD Radeon Pro 455</td>\n",
              "      <td>macOS</td>\n",
              "      <td>1.83kg</td>\n",
              "      <td>135195.3360</td>\n",
              "    </tr>\n",
              "    <tr>\n",
              "      <th>4</th>\n",
              "      <td>Apple</td>\n",
              "      <td>Ultrabook</td>\n",
              "      <td>13.3</td>\n",
              "      <td>IPS Panel Retina Display 2560x1600</td>\n",
              "      <td>Intel Core i5 3.1GHz</td>\n",
              "      <td>8GB</td>\n",
              "      <td>256GB SSD</td>\n",
              "      <td>Intel Iris Plus Graphics 650</td>\n",
              "      <td>macOS</td>\n",
              "      <td>1.37kg</td>\n",
              "      <td>96095.8080</td>\n",
              "    </tr>\n",
              "  </tbody>\n",
              "</table>\n",
              "</div>"
            ],
            "text/plain": [
              "  Company   TypeName  Inches  ...  OpSys  Weight        Price\n",
              "0   Apple  Ultrabook    13.3  ...  macOS  1.37kg   71378.6832\n",
              "1   Apple  Ultrabook    13.3  ...  macOS  1.34kg   47895.5232\n",
              "2      HP   Notebook    15.6  ...  No OS  1.86kg   30636.0000\n",
              "3   Apple  Ultrabook    15.4  ...  macOS  1.83kg  135195.3360\n",
              "4   Apple  Ultrabook    13.3  ...  macOS  1.37kg   96095.8080\n",
              "\n",
              "[5 rows x 11 columns]"
            ]
          },
          "metadata": {},
          "execution_count": 98
        }
      ]
    },
    {
      "cell_type": "code",
      "metadata": {
        "colab": {
          "base_uri": "https://localhost:8080/",
          "height": 361
        },
        "id": "l8XNSsBZRfZI",
        "outputId": "798322b1-6422-45bd-9a00-ed58bf9b0cfa"
      },
      "source": [
        "sns.distplot(df.Price) #here we see our dependable varible is skewed "
      ],
      "execution_count": 99,
      "outputs": [
        {
          "output_type": "stream",
          "name": "stderr",
          "text": [
            "/usr/local/lib/python3.7/dist-packages/seaborn/distributions.py:2619: FutureWarning: `distplot` is a deprecated function and will be removed in a future version. Please adapt your code to use either `displot` (a figure-level function with similar flexibility) or `histplot` (an axes-level function for histograms).\n",
            "  warnings.warn(msg, FutureWarning)\n"
          ]
        },
        {
          "output_type": "execute_result",
          "data": {
            "text/plain": [
              "<matplotlib.axes._subplots.AxesSubplot at 0x7f2273d5e9d0>"
            ]
          },
          "metadata": {},
          "execution_count": 99
        },
        {
          "output_type": "display_data",
          "data": {
            "image/png": "[encoded data removed]",
            "text/plain": [
              "<Figure size 432x288 with 1 Axes>"
            ]
          },
          "metadata": {
            "needs_background": "light"
          }
        }
      ]
    },
    {
      "cell_type": "code",
      "metadata": {
        "colab": {
          "base_uri": "https://localhost:8080/"
        },
        "id": "lT3O-rc2Y2J-",
        "outputId": "6eef2ce1-90a7-4590-ea8c-9e3be2c6d600"
      },
      "source": [
        "df.columns"
      ],
      "execution_count": 100,
      "outputs": [
        {
          "output_type": "execute_result",
          "data": {
            "text/plain": [
              "Index(['Company', 'TypeName', 'Inches', 'ScreenResolution', 'Cpu', 'Ram',\n",
              "       'Memory', 'Gpu', 'OpSys', 'Weight', 'Price'],\n",
              "      dtype='object')"
            ]
          },
          "metadata": {},
          "execution_count": 100
        }
      ]
    },
    {
      "cell_type": "markdown",
      "metadata": {
        "id": "4eCvaHgZZq1k"
      },
      "source": [
        "## we remove GB and Kg From Ram and weight columns"
      ]
    },
    {
      "cell_type": "code",
      "metadata": {
        "id": "LGhxBX6xY6h-"
      },
      "source": [
        "df['Ram']=df['Ram'].str.replace('GB','').astype(int)\n",
        "df['Weight']=df['Weight'].str.replace('kg','').astype(float)"
      ],
      "execution_count": 101,
      "outputs": []
    },
    {
      "cell_type": "code",
      "metadata": {
        "colab": {
          "base_uri": "https://localhost:8080/",
          "height": 111
        },
        "id": "uL3cIpOUaLQE",
        "outputId": "d5b165e5-80d0-46fc-bcf0-b9561a366854"
      },
      "source": [
        "df.head(2)"
      ],
      "execution_count": 102,
      "outputs": [
        {
          "output_type": "execute_result",
          "data": {
            "text/html": [
              "<div>\n",
              "<style scoped>\n",
              "    .dataframe tbody tr th:only-of-type {\n",
              "        vertical-align: middle;\n",
              "    }\n",
              "\n",
              "    .dataframe tbody tr th {\n",
              "        vertical-align: top;\n",
              "    }\n",
              "\n",
              "    .dataframe thead th {\n",
              "        text-align: right;\n",
              "    }\n",
              "</style>\n",
              "<table border=\"1\" class=\"dataframe\">\n",
              "  <thead>\n",
              "    <tr style=\"text-align: right;\">\n",
              "      <th></th>\n",
              "      <th>Company</th>\n",
              "      <th>TypeName</th>\n",
              "      <th>Inches</th>\n",
              "      <th>ScreenResolution</th>\n",
              "      <th>Cpu</th>\n",
              "      <th>Ram</th>\n",
              "      <th>Memory</th>\n",
              "      <th>Gpu</th>\n",
              "      <th>OpSys</th>\n",
              "      <th>Weight</th>\n",
              "      <th>Price</th>\n",
              "    </tr>\n",
              "  </thead>\n",
              "  <tbody>\n",
              "    <tr>\n",
              "      <th>0</th>\n",
              "      <td>Apple</td>\n",
              "      <td>Ultrabook</td>\n",
              "      <td>13.3</td>\n",
              "      <td>IPS Panel Retina Display 2560x1600</td>\n",
              "      <td>Intel Core i5 2.3GHz</td>\n",
              "      <td>8</td>\n",
              "      <td>128GB SSD</td>\n",
              "      <td>Intel Iris Plus Graphics 640</td>\n",
              "      <td>macOS</td>\n",
              "      <td>1.37</td>\n",
              "      <td>71378.6832</td>\n",
              "    </tr>\n",
              "    <tr>\n",
              "      <th>1</th>\n",
              "      <td>Apple</td>\n",
              "      <td>Ultrabook</td>\n",
              "      <td>13.3</td>\n",
              "      <td>1440x900</td>\n",
              "      <td>Intel Core i5 1.8GHz</td>\n",
              "      <td>8</td>\n",
              "      <td>128GB Flash Storage</td>\n",
              "      <td>Intel HD Graphics 6000</td>\n",
              "      <td>macOS</td>\n",
              "      <td>1.34</td>\n",
              "      <td>47895.5232</td>\n",
              "    </tr>\n",
              "  </tbody>\n",
              "</table>\n",
              "</div>"
            ],
            "text/plain": [
              "  Company   TypeName  Inches  ...  OpSys Weight       Price\n",
              "0   Apple  Ultrabook    13.3  ...  macOS   1.37  71378.6832\n",
              "1   Apple  Ultrabook    13.3  ...  macOS   1.34  47895.5232\n",
              "\n",
              "[2 rows x 11 columns]"
            ]
          },
          "metadata": {},
          "execution_count": 102
        }
      ]
    },
    {
      "cell_type": "markdown",
      "metadata": {
        "id": "Pu7IZ6p0Sra-"
      },
      "source": [
        "## now we do some feature enginearing in Screen resolution \n",
        "In Screen resolution column many features are hidden like Ips panel and Screen resolution"
      ]
    },
    {
      "cell_type": "code",
      "metadata": {
        "colab": {
          "base_uri": "https://localhost:8080/"
        },
        "id": "BnSmCQO1RfQp",
        "outputId": "271338c2-db4c-4923-e22a-422f43b12746"
      },
      "source": [
        "df['ScreenResolution'].unique()"
      ],
      "execution_count": 103,
      "outputs": [
        {
          "output_type": "execute_result",
          "data": {
            "text/plain": [
              "array(['IPS Panel Retina Display 2560x1600', '1440x900',\n",
              "       'Full HD 1920x1080', 'IPS Panel Retina Display 2880x1800',\n",
              "       '1366x768', 'IPS Panel Full HD 1920x1080',\n",
              "       'IPS Panel Retina Display 2304x1440',\n",
              "       'IPS Panel Full HD / Touchscreen 1920x1080',\n",
              "       'Full HD / Touchscreen 1920x1080',\n",
              "       'Touchscreen / Quad HD+ 3200x1800',\n",
              "       'IPS Panel Touchscreen 1920x1200', 'Touchscreen 2256x1504',\n",
              "       'Quad HD+ / Touchscreen 3200x1800', 'IPS Panel 1366x768',\n",
              "       'IPS Panel 4K Ultra HD / Touchscreen 3840x2160',\n",
              "       'IPS Panel Full HD 2160x1440',\n",
              "       '4K Ultra HD / Touchscreen 3840x2160', 'Touchscreen 2560x1440',\n",
              "       '1600x900', 'IPS Panel 4K Ultra HD 3840x2160',\n",
              "       '4K Ultra HD 3840x2160', 'Touchscreen 1366x768',\n",
              "       'IPS Panel Full HD 1366x768', 'IPS Panel 2560x1440',\n",
              "       'IPS Panel Full HD 2560x1440',\n",
              "       'IPS Panel Retina Display 2736x1824', 'Touchscreen 2400x1600',\n",
              "       '2560x1440', 'IPS Panel Quad HD+ 2560x1440',\n",
              "       'IPS Panel Quad HD+ 3200x1800',\n",
              "       'IPS Panel Quad HD+ / Touchscreen 3200x1800',\n",
              "       'IPS Panel Touchscreen 1366x768', '1920x1080',\n",
              "       'IPS Panel Full HD 1920x1200',\n",
              "       'IPS Panel Touchscreen / 4K Ultra HD 3840x2160',\n",
              "       'IPS Panel Touchscreen 2560x1440',\n",
              "       'Touchscreen / Full HD 1920x1080', 'Quad HD+ 3200x1800',\n",
              "       'Touchscreen / 4K Ultra HD 3840x2160',\n",
              "       'IPS Panel Touchscreen 2400x1600'], dtype=object)"
            ]
          },
          "metadata": {},
          "execution_count": 103
        }
      ]
    },
    {
      "cell_type": "code",
      "metadata": {
        "id": "SF0KoSlueKr6"
      },
      "source": [
        "df['Ips']=df.ScreenResolution.apply(lambda x:1  if 'IPS' in x else 0)"
      ],
      "execution_count": 104,
      "outputs": []
    },
    {
      "cell_type": "code",
      "metadata": {
        "colab": {
          "base_uri": "https://localhost:8080/"
        },
        "id": "XRKs1_wVcWU3",
        "outputId": "59fe0a58-5d49-4a10-fd95-dd6aaaaec52b"
      },
      "source": [
        "df.Ips.value_counts()"
      ],
      "execution_count": 105,
      "outputs": [
        {
          "output_type": "execute_result",
          "data": {
            "text/plain": [
              "0    938\n",
              "1    365\n",
              "Name: Ips, dtype: int64"
            ]
          },
          "metadata": {},
          "execution_count": 105
        }
      ]
    },
    {
      "cell_type": "code",
      "metadata": {
        "id": "sa1a7zL1f2fe"
      },
      "source": [
        "df['Touchscreen']=df.ScreenResolution.apply(lambda x:1  if 'Touchscreen' in x else 0)"
      ],
      "execution_count": 106,
      "outputs": []
    },
    {
      "cell_type": "code",
      "metadata": {
        "colab": {
          "base_uri": "https://localhost:8080/"
        },
        "id": "OX_fuJzggIKd",
        "outputId": "2cbc1d64-c467-4553-de06-db936d41d5a9"
      },
      "source": [
        "df.Touchscreen.value_counts()"
      ],
      "execution_count": 107,
      "outputs": [
        {
          "output_type": "execute_result",
          "data": {
            "text/plain": [
              "0    1111\n",
              "1     192\n",
              "Name: Touchscreen, dtype: int64"
            ]
          },
          "metadata": {},
          "execution_count": 107
        }
      ]
    },
    {
      "cell_type": "code",
      "metadata": {
        "colab": {
          "base_uri": "https://localhost:8080/",
          "height": 289
        },
        "id": "mwAPjuM2hvG5",
        "outputId": "dd53090a-3404-4534-d542-8b8b3320a961"
      },
      "source": [
        "df.head()"
      ],
      "execution_count": 108,
      "outputs": [
        {
          "output_type": "execute_result",
          "data": {
            "text/html": [
              "<div>\n",
              "<style scoped>\n",
              "    .dataframe tbody tr th:only-of-type {\n",
              "        vertical-align: middle;\n",
              "    }\n",
              "\n",
              "    .dataframe tbody tr th {\n",
              "        vertical-align: top;\n",
              "    }\n",
              "\n",
              "    .dataframe thead th {\n",
              "        text-align: right;\n",
              "    }\n",
              "</style>\n",
              "<table border=\"1\" class=\"dataframe\">\n",
              "  <thead>\n",
              "    <tr style=\"text-align: right;\">\n",
              "      <th></th>\n",
              "      <th>Company</th>\n",
              "      <th>TypeName</th>\n",
              "      <th>Inches</th>\n",
              "      <th>ScreenResolution</th>\n",
              "      <th>Cpu</th>\n",
              "      <th>Ram</th>\n",
              "      <th>Memory</th>\n",
              "      <th>Gpu</th>\n",
              "      <th>OpSys</th>\n",
              "      <th>Weight</th>\n",
              "      <th>Price</th>\n",
              "      <th>Ips</th>\n",
              "      <th>Touchscreen</th>\n",
              "    </tr>\n",
              "  </thead>\n",
              "  <tbody>\n",
              "    <tr>\n",
              "      <th>0</th>\n",
              "      <td>Apple</td>\n",
              "      <td>Ultrabook</td>\n",
              "      <td>13.3</td>\n",
              "      <td>IPS Panel Retina Display 2560x1600</td>\n",
              "      <td>Intel Core i5 2.3GHz</td>\n",
              "      <td>8</td>\n",
              "      <td>128GB SSD</td>\n",
              "      <td>Intel Iris Plus Graphics 640</td>\n",
              "      <td>macOS</td>\n",
              "      <td>1.37</td>\n",
              "      <td>71378.6832</td>\n",
              "      <td>1</td>\n",
              "      <td>0</td>\n",
              "    </tr>\n",
              "    <tr>\n",
              "      <th>1</th>\n",
              "      <td>Apple</td>\n",
              "      <td>Ultrabook</td>\n",
              "      <td>13.3</td>\n",
              "      <td>1440x900</td>\n",
              "      <td>Intel Core i5 1.8GHz</td>\n",
              "      <td>8</td>\n",
              "      <td>128GB Flash Storage</td>\n",
              "      <td>Intel HD Graphics 6000</td>\n",
              "      <td>macOS</td>\n",
              "      <td>1.34</td>\n",
              "      <td>47895.5232</td>\n",
              "      <td>0</td>\n",
              "      <td>0</td>\n",
              "    </tr>\n",
              "    <tr>\n",
              "      <th>2</th>\n",
              "      <td>HP</td>\n",
              "      <td>Notebook</td>\n",
              "      <td>15.6</td>\n",
              "      <td>Full HD 1920x1080</td>\n",
              "      <td>Intel Core i5 7200U 2.5GHz</td>\n",
              "      <td>8</td>\n",
              "      <td>256GB SSD</td>\n",
              "      <td>Intel HD Graphics 620</td>\n",
              "      <td>No OS</td>\n",
              "      <td>1.86</td>\n",
              "      <td>30636.0000</td>\n",
              "      <td>0</td>\n",
              "      <td>0</td>\n",
              "    </tr>\n",
              "    <tr>\n",
              "      <th>3</th>\n",
              "      <td>Apple</td>\n",
              "      <td>Ultrabook</td>\n",
              "      <td>15.4</td>\n",
              "      <td>IPS Panel Retina Display 2880x1800</td>\n",
              "      <td>Intel Core i7 2.7GHz</td>\n",
              "      <td>16</td>\n",
              "      <td>512GB SSD</td>\n",
              "      <td>AMD Radeon Pro 455</td>\n",
              "      <td>macOS</td>\n",
              "      <td>1.83</td>\n",
              "      <td>135195.3360</td>\n",
              "      <td>1</td>\n",
              "      <td>0</td>\n",
              "    </tr>\n",
              "    <tr>\n",
              "      <th>4</th>\n",
              "      <td>Apple</td>\n",
              "      <td>Ultrabook</td>\n",
              "      <td>13.3</td>\n",
              "      <td>IPS Panel Retina Display 2560x1600</td>\n",
              "      <td>Intel Core i5 3.1GHz</td>\n",
              "      <td>8</td>\n",
              "      <td>256GB SSD</td>\n",
              "      <td>Intel Iris Plus Graphics 650</td>\n",
              "      <td>macOS</td>\n",
              "      <td>1.37</td>\n",
              "      <td>96095.8080</td>\n",
              "      <td>1</td>\n",
              "      <td>0</td>\n",
              "    </tr>\n",
              "  </tbody>\n",
              "</table>\n",
              "</div>"
            ],
            "text/plain": [
              "  Company   TypeName  Inches  ...        Price Ips  Touchscreen\n",
              "0   Apple  Ultrabook    13.3  ...   71378.6832   1            0\n",
              "1   Apple  Ultrabook    13.3  ...   47895.5232   0            0\n",
              "2      HP   Notebook    15.6  ...   30636.0000   0            0\n",
              "3   Apple  Ultrabook    15.4  ...  135195.3360   1            0\n",
              "4   Apple  Ultrabook    13.3  ...   96095.8080   1            0\n",
              "\n",
              "[5 rows x 13 columns]"
            ]
          },
          "metadata": {},
          "execution_count": 108
        }
      ]
    },
    {
      "cell_type": "code",
      "metadata": {
        "id": "vZRExAGUgTEN"
      },
      "source": [
        "Try = df.ScreenResolution.str.split('x',n=1,expand=True)"
      ],
      "execution_count": 109,
      "outputs": []
    },
    {
      "cell_type": "code",
      "metadata": {
        "colab": {
          "base_uri": "https://localhost:8080/",
          "height": 419
        },
        "id": "Fg6dWZHLgfJ6",
        "outputId": "481d3fb1-80de-4982-b4ab-df8bd961992a"
      },
      "source": [
        "Try"
      ],
      "execution_count": 110,
      "outputs": [
        {
          "output_type": "execute_result",
          "data": {
            "text/html": [
              "<div>\n",
              "<style scoped>\n",
              "    .dataframe tbody tr th:only-of-type {\n",
              "        vertical-align: middle;\n",
              "    }\n",
              "\n",
              "    .dataframe tbody tr th {\n",
              "        vertical-align: top;\n",
              "    }\n",
              "\n",
              "    .dataframe thead th {\n",
              "        text-align: right;\n",
              "    }\n",
              "</style>\n",
              "<table border=\"1\" class=\"dataframe\">\n",
              "  <thead>\n",
              "    <tr style=\"text-align: right;\">\n",
              "      <th></th>\n",
              "      <th>0</th>\n",
              "      <th>1</th>\n",
              "    </tr>\n",
              "  </thead>\n",
              "  <tbody>\n",
              "    <tr>\n",
              "      <th>0</th>\n",
              "      <td>IPS Panel Retina Display 2560</td>\n",
              "      <td>1600</td>\n",
              "    </tr>\n",
              "    <tr>\n",
              "      <th>1</th>\n",
              "      <td>1440</td>\n",
              "      <td>900</td>\n",
              "    </tr>\n",
              "    <tr>\n",
              "      <th>2</th>\n",
              "      <td>Full HD 1920</td>\n",
              "      <td>1080</td>\n",
              "    </tr>\n",
              "    <tr>\n",
              "      <th>3</th>\n",
              "      <td>IPS Panel Retina Display 2880</td>\n",
              "      <td>1800</td>\n",
              "    </tr>\n",
              "    <tr>\n",
              "      <th>4</th>\n",
              "      <td>IPS Panel Retina Display 2560</td>\n",
              "      <td>1600</td>\n",
              "    </tr>\n",
              "    <tr>\n",
              "      <th>...</th>\n",
              "      <td>...</td>\n",
              "      <td>...</td>\n",
              "    </tr>\n",
              "    <tr>\n",
              "      <th>1298</th>\n",
              "      <td>IPS Panel Full HD / Touchscreen 1920</td>\n",
              "      <td>1080</td>\n",
              "    </tr>\n",
              "    <tr>\n",
              "      <th>1299</th>\n",
              "      <td>IPS Panel Quad HD+ / Touchscreen 3200</td>\n",
              "      <td>1800</td>\n",
              "    </tr>\n",
              "    <tr>\n",
              "      <th>1300</th>\n",
              "      <td>1366</td>\n",
              "      <td>768</td>\n",
              "    </tr>\n",
              "    <tr>\n",
              "      <th>1301</th>\n",
              "      <td>1366</td>\n",
              "      <td>768</td>\n",
              "    </tr>\n",
              "    <tr>\n",
              "      <th>1302</th>\n",
              "      <td>1366</td>\n",
              "      <td>768</td>\n",
              "    </tr>\n",
              "  </tbody>\n",
              "</table>\n",
              "<p>1303 rows × 2 columns</p>\n",
              "</div>"
            ],
            "text/plain": [
              "                                          0     1\n",
              "0             IPS Panel Retina Display 2560  1600\n",
              "1                                      1440   900\n",
              "2                              Full HD 1920  1080\n",
              "3             IPS Panel Retina Display 2880  1800\n",
              "4             IPS Panel Retina Display 2560  1600\n",
              "...                                     ...   ...\n",
              "1298   IPS Panel Full HD / Touchscreen 1920  1080\n",
              "1299  IPS Panel Quad HD+ / Touchscreen 3200  1800\n",
              "1300                                   1366   768\n",
              "1301                                   1366   768\n",
              "1302                                   1366   768\n",
              "\n",
              "[1303 rows x 2 columns]"
            ]
          },
          "metadata": {},
          "execution_count": 110
        }
      ]
    },
    {
      "cell_type": "code",
      "metadata": {
        "id": "ihLvFV1sghUR"
      },
      "source": [
        "Try['x_res'] = Try[0].str.extract(\"([-+]?\\d*\\.\\d+|[-+]?\\d+)\").astype(int)\n",
        "Try['y_res'] = Try[1].astype(int)"
      ],
      "execution_count": 111,
      "outputs": []
    },
    {
      "cell_type": "code",
      "metadata": {
        "colab": {
          "base_uri": "https://localhost:8080/",
          "height": 204
        },
        "id": "ylE8UCxni0SM",
        "outputId": "47f33bce-c5be-4893-a95f-bdf9f25d7f97"
      },
      "source": [
        "Try.head()"
      ],
      "execution_count": 112,
      "outputs": [
        {
          "output_type": "execute_result",
          "data": {
            "text/html": [
              "<div>\n",
              "<style scoped>\n",
              "    .dataframe tbody tr th:only-of-type {\n",
              "        vertical-align: middle;\n",
              "    }\n",
              "\n",
              "    .dataframe tbody tr th {\n",
              "        vertical-align: top;\n",
              "    }\n",
              "\n",
              "    .dataframe thead th {\n",
              "        text-align: right;\n",
              "    }\n",
              "</style>\n",
              "<table border=\"1\" class=\"dataframe\">\n",
              "  <thead>\n",
              "    <tr style=\"text-align: right;\">\n",
              "      <th></th>\n",
              "      <th>0</th>\n",
              "      <th>1</th>\n",
              "      <th>x_res</th>\n",
              "      <th>y_res</th>\n",
              "    </tr>\n",
              "  </thead>\n",
              "  <tbody>\n",
              "    <tr>\n",
              "      <th>0</th>\n",
              "      <td>IPS Panel Retina Display 2560</td>\n",
              "      <td>1600</td>\n",
              "      <td>2560</td>\n",
              "      <td>1600</td>\n",
              "    </tr>\n",
              "    <tr>\n",
              "      <th>1</th>\n",
              "      <td>1440</td>\n",
              "      <td>900</td>\n",
              "      <td>1440</td>\n",
              "      <td>900</td>\n",
              "    </tr>\n",
              "    <tr>\n",
              "      <th>2</th>\n",
              "      <td>Full HD 1920</td>\n",
              "      <td>1080</td>\n",
              "      <td>1920</td>\n",
              "      <td>1080</td>\n",
              "    </tr>\n",
              "    <tr>\n",
              "      <th>3</th>\n",
              "      <td>IPS Panel Retina Display 2880</td>\n",
              "      <td>1800</td>\n",
              "      <td>2880</td>\n",
              "      <td>1800</td>\n",
              "    </tr>\n",
              "    <tr>\n",
              "      <th>4</th>\n",
              "      <td>IPS Panel Retina Display 2560</td>\n",
              "      <td>1600</td>\n",
              "      <td>2560</td>\n",
              "      <td>1600</td>\n",
              "    </tr>\n",
              "  </tbody>\n",
              "</table>\n",
              "</div>"
            ],
            "text/plain": [
              "                               0     1  x_res  y_res\n",
              "0  IPS Panel Retina Display 2560  1600   2560   1600\n",
              "1                           1440   900   1440    900\n",
              "2                   Full HD 1920  1080   1920   1080\n",
              "3  IPS Panel Retina Display 2880  1800   2880   1800\n",
              "4  IPS Panel Retina Display 2560  1600   2560   1600"
            ]
          },
          "metadata": {},
          "execution_count": 112
        }
      ]
    },
    {
      "cell_type": "code",
      "metadata": {
        "id": "NkM0YWu2i7_M"
      },
      "source": [
        "df['PPI']=round((((Try['x_res']**2)+(Try['y_res']**2))**0.5)/df['Inches'],2)"
      ],
      "execution_count": 113,
      "outputs": []
    },
    {
      "cell_type": "code",
      "metadata": {
        "colab": {
          "base_uri": "https://localhost:8080/",
          "height": 289
        },
        "id": "-jL04f_uj9xh",
        "outputId": "f6b04c84-1d1a-44cc-b76c-3d74cfc5ffbb"
      },
      "source": [
        "df.head()"
      ],
      "execution_count": 114,
      "outputs": [
        {
          "output_type": "execute_result",
          "data": {
            "text/html": [
              "<div>\n",
              "<style scoped>\n",
              "    .dataframe tbody tr th:only-of-type {\n",
              "        vertical-align: middle;\n",
              "    }\n",
              "\n",
              "    .dataframe tbody tr th {\n",
              "        vertical-align: top;\n",
              "    }\n",
              "\n",
              "    .dataframe thead th {\n",
              "        text-align: right;\n",
              "    }\n",
              "</style>\n",
              "<table border=\"1\" class=\"dataframe\">\n",
              "  <thead>\n",
              "    <tr style=\"text-align: right;\">\n",
              "      <th></th>\n",
              "      <th>Company</th>\n",
              "      <th>TypeName</th>\n",
              "      <th>Inches</th>\n",
              "      <th>ScreenResolution</th>\n",
              "      <th>Cpu</th>\n",
              "      <th>Ram</th>\n",
              "      <th>Memory</th>\n",
              "      <th>Gpu</th>\n",
              "      <th>OpSys</th>\n",
              "      <th>Weight</th>\n",
              "      <th>Price</th>\n",
              "      <th>Ips</th>\n",
              "      <th>Touchscreen</th>\n",
              "      <th>PPI</th>\n",
              "    </tr>\n",
              "  </thead>\n",
              "  <tbody>\n",
              "    <tr>\n",
              "      <th>0</th>\n",
              "      <td>Apple</td>\n",
              "      <td>Ultrabook</td>\n",
              "      <td>13.3</td>\n",
              "      <td>IPS Panel Retina Display 2560x1600</td>\n",
              "      <td>Intel Core i5 2.3GHz</td>\n",
              "      <td>8</td>\n",
              "      <td>128GB SSD</td>\n",
              "      <td>Intel Iris Plus Graphics 640</td>\n",
              "      <td>macOS</td>\n",
              "      <td>1.37</td>\n",
              "      <td>71378.6832</td>\n",
              "      <td>1</td>\n",
              "      <td>0</td>\n",
              "      <td>226.98</td>\n",
              "    </tr>\n",
              "    <tr>\n",
              "      <th>1</th>\n",
              "      <td>Apple</td>\n",
              "      <td>Ultrabook</td>\n",
              "      <td>13.3</td>\n",
              "      <td>1440x900</td>\n",
              "      <td>Intel Core i5 1.8GHz</td>\n",
              "      <td>8</td>\n",
              "      <td>128GB Flash Storage</td>\n",
              "      <td>Intel HD Graphics 6000</td>\n",
              "      <td>macOS</td>\n",
              "      <td>1.34</td>\n",
              "      <td>47895.5232</td>\n",
              "      <td>0</td>\n",
              "      <td>0</td>\n",
              "      <td>127.68</td>\n",
              "    </tr>\n",
              "    <tr>\n",
              "      <th>2</th>\n",
              "      <td>HP</td>\n",
              "      <td>Notebook</td>\n",
              "      <td>15.6</td>\n",
              "      <td>Full HD 1920x1080</td>\n",
              "      <td>Intel Core i5 7200U 2.5GHz</td>\n",
              "      <td>8</td>\n",
              "      <td>256GB SSD</td>\n",
              "      <td>Intel HD Graphics 620</td>\n",
              "      <td>No OS</td>\n",
              "      <td>1.86</td>\n",
              "      <td>30636.0000</td>\n",
              "      <td>0</td>\n",
              "      <td>0</td>\n",
              "      <td>141.21</td>\n",
              "    </tr>\n",
              "    <tr>\n",
              "      <th>3</th>\n",
              "      <td>Apple</td>\n",
              "      <td>Ultrabook</td>\n",
              "      <td>15.4</td>\n",
              "      <td>IPS Panel Retina Display 2880x1800</td>\n",
              "      <td>Intel Core i7 2.7GHz</td>\n",
              "      <td>16</td>\n",
              "      <td>512GB SSD</td>\n",
              "      <td>AMD Radeon Pro 455</td>\n",
              "      <td>macOS</td>\n",
              "      <td>1.83</td>\n",
              "      <td>135195.3360</td>\n",
              "      <td>1</td>\n",
              "      <td>0</td>\n",
              "      <td>220.53</td>\n",
              "    </tr>\n",
              "    <tr>\n",
              "      <th>4</th>\n",
              "      <td>Apple</td>\n",
              "      <td>Ultrabook</td>\n",
              "      <td>13.3</td>\n",
              "      <td>IPS Panel Retina Display 2560x1600</td>\n",
              "      <td>Intel Core i5 3.1GHz</td>\n",
              "      <td>8</td>\n",
              "      <td>256GB SSD</td>\n",
              "      <td>Intel Iris Plus Graphics 650</td>\n",
              "      <td>macOS</td>\n",
              "      <td>1.37</td>\n",
              "      <td>96095.8080</td>\n",
              "      <td>1</td>\n",
              "      <td>0</td>\n",
              "      <td>226.98</td>\n",
              "    </tr>\n",
              "  </tbody>\n",
              "</table>\n",
              "</div>"
            ],
            "text/plain": [
              "  Company   TypeName  Inches  ... Ips Touchscreen     PPI\n",
              "0   Apple  Ultrabook    13.3  ...   1           0  226.98\n",
              "1   Apple  Ultrabook    13.3  ...   0           0  127.68\n",
              "2      HP   Notebook    15.6  ...   0           0  141.21\n",
              "3   Apple  Ultrabook    15.4  ...   1           0  220.53\n",
              "4   Apple  Ultrabook    13.3  ...   1           0  226.98\n",
              "\n",
              "[5 rows x 14 columns]"
            ]
          },
          "metadata": {},
          "execution_count": 114
        }
      ]
    },
    {
      "cell_type": "code",
      "metadata": {
        "id": "acbgj2J2lCDG"
      },
      "source": [
        "df.drop(['ScreenResolution'],axis=1,inplace=True)"
      ],
      "execution_count": 115,
      "outputs": []
    },
    {
      "cell_type": "code",
      "metadata": {
        "id": "0X9AdJxHlc9W"
      },
      "source": [
        "df.drop(['Inches'],axis=1,inplace=True)"
      ],
      "execution_count": 116,
      "outputs": []
    },
    {
      "cell_type": "code",
      "metadata": {
        "id": "pfmyqzZ2lihm"
      },
      "source": [
        "# df['Cpu'].str.split(' ').apply(lambda x : ' '.join(x) x[:3])"
      ],
      "execution_count": 117,
      "outputs": []
    },
    {
      "cell_type": "code",
      "metadata": {
        "colab": {
          "base_uri": "https://localhost:8080/"
        },
        "id": "BrRWC48Cn48D",
        "outputId": "935da9aa-9bd3-42c6-b924-069cb5c522c4"
      },
      "source": [
        "df['Cpu'].unique()"
      ],
      "execution_count": 118,
      "outputs": [
        {
          "output_type": "execute_result",
          "data": {
            "text/plain": [
              "array(['Intel Core i5 2.3GHz', 'Intel Core i5 1.8GHz',\n",
              "       'Intel Core i5 7200U 2.5GHz', 'Intel Core i7 2.7GHz',\n",
              "       'Intel Core i5 3.1GHz', 'AMD A9-Series 9420 3GHz',\n",
              "       'Intel Core i7 2.2GHz', 'Intel Core i7 8550U 1.8GHz',\n",
              "       'Intel Core i5 8250U 1.6GHz', 'Intel Core i3 6006U 2GHz',\n",
              "       'Intel Core i7 2.8GHz', 'Intel Core M m3 1.2GHz',\n",
              "       'Intel Core i7 7500U 2.7GHz', 'Intel Core i7 2.9GHz',\n",
              "       'Intel Core i3 7100U 2.4GHz', 'Intel Atom x5-Z8350 1.44GHz',\n",
              "       'Intel Core i5 7300HQ 2.5GHz', 'AMD E-Series E2-9000e 1.5GHz',\n",
              "       'Intel Core i5 1.6GHz', 'Intel Core i7 8650U 1.9GHz',\n",
              "       'Intel Atom x5-Z8300 1.44GHz', 'AMD E-Series E2-6110 1.5GHz',\n",
              "       'AMD A6-Series 9220 2.5GHz',\n",
              "       'Intel Celeron Dual Core N3350 1.1GHz',\n",
              "       'Intel Core i3 7130U 2.7GHz', 'Intel Core i7 7700HQ 2.8GHz',\n",
              "       'Intel Core i5 2.0GHz', 'AMD Ryzen 1700 3GHz',\n",
              "       'Intel Pentium Quad Core N4200 1.1GHz',\n",
              "       'Intel Atom x5-Z8550 1.44GHz',\n",
              "       'Intel Celeron Dual Core N3060 1.6GHz', 'Intel Core i5 1.3GHz',\n",
              "       'AMD FX 9830P 3GHz', 'Intel Core i7 7560U 2.4GHz',\n",
              "       'AMD E-Series 6110 1.5GHz', 'Intel Core i5 6200U 2.3GHz',\n",
              "       'Intel Core M 6Y75 1.2GHz', 'Intel Core i5 7500U 2.7GHz',\n",
              "       'Intel Core i3 6006U 2.2GHz', 'AMD A6-Series 9220 2.9GHz',\n",
              "       'Intel Core i7 6920HQ 2.9GHz', 'Intel Core i5 7Y54 1.2GHz',\n",
              "       'Intel Core i7 7820HK 2.9GHz', 'Intel Xeon E3-1505M V6 3GHz',\n",
              "       'Intel Core i7 6500U 2.5GHz', 'AMD E-Series 9000e 1.5GHz',\n",
              "       'AMD A10-Series A10-9620P 2.5GHz', 'AMD A6-Series A6-9220 2.5GHz',\n",
              "       'Intel Core i5 2.9GHz', 'Intel Core i7 6600U 2.6GHz',\n",
              "       'Intel Core i3 6006U 2.0GHz',\n",
              "       'Intel Celeron Dual Core 3205U 1.5GHz',\n",
              "       'Intel Core i7 7820HQ 2.9GHz', 'AMD A10-Series 9600P 2.4GHz',\n",
              "       'Intel Core i7 7600U 2.8GHz', 'AMD A8-Series 7410 2.2GHz',\n",
              "       'Intel Celeron Dual Core 3855U 1.6GHz',\n",
              "       'Intel Pentium Quad Core N3710 1.6GHz',\n",
              "       'AMD A12-Series 9720P 2.7GHz', 'Intel Core i5 7300U 2.6GHz',\n",
              "       'AMD A12-Series 9720P 3.6GHz',\n",
              "       'Intel Celeron Quad Core N3450 1.1GHz',\n",
              "       'Intel Celeron Dual Core N3060 1.60GHz',\n",
              "       'Intel Core i5 6440HQ 2.6GHz', 'Intel Core i7 6820HQ 2.7GHz',\n",
              "       'AMD Ryzen 1600 3.2GHz', 'Intel Core i7 7Y75 1.3GHz',\n",
              "       'Intel Core i5 7440HQ 2.8GHz', 'Intel Core i7 7660U 2.5GHz',\n",
              "       'Intel Core i7 7700HQ 2.7GHz', 'Intel Core M m3-7Y30 2.2GHz',\n",
              "       'Intel Core i5 7Y57 1.2GHz', 'Intel Core i7 6700HQ 2.6GHz',\n",
              "       'Intel Core i3 6100U 2.3GHz', 'AMD A10-Series 9620P 2.5GHz',\n",
              "       'AMD E-Series 7110 1.8GHz', 'Intel Celeron Dual Core N3350 2.0GHz',\n",
              "       'AMD A9-Series A9-9420 3GHz', 'Intel Core i7 6820HK 2.7GHz',\n",
              "       'Intel Core M 7Y30 1.0GHz', 'Intel Xeon E3-1535M v6 3.1GHz',\n",
              "       'Intel Celeron Quad Core N3160 1.6GHz',\n",
              "       'Intel Core i5 6300U 2.4GHz', 'Intel Core i3 6100U 2.1GHz',\n",
              "       'AMD E-Series E2-9000 2.2GHz',\n",
              "       'Intel Celeron Dual Core N3050 1.6GHz',\n",
              "       'Intel Core M M3-6Y30 0.9GHz', 'AMD A9-Series 9420 2.9GHz',\n",
              "       'Intel Core i5 6300HQ 2.3GHz', 'AMD A6-Series 7310 2GHz',\n",
              "       'Intel Atom Z8350 1.92GHz', 'Intel Xeon E3-1535M v5 2.9GHz',\n",
              "       'Intel Core i5 6260U 1.8GHz',\n",
              "       'Intel Pentium Dual Core N4200 1.1GHz',\n",
              "       'Intel Celeron Quad Core N3710 1.6GHz', 'Intel Core M 1.2GHz',\n",
              "       'AMD A12-Series 9700P 2.5GHz', 'Intel Core i7 7500U 2.5GHz',\n",
              "       'Intel Pentium Dual Core 4405U 2.1GHz',\n",
              "       'AMD A4-Series 7210 2.2GHz', 'Intel Core i7 6560U 2.2GHz',\n",
              "       'Intel Core M m7-6Y75 1.2GHz', 'AMD FX 8800P 2.1GHz',\n",
              "       'Intel Core M M7-6Y75 1.2GHz', 'Intel Core i5 7200U 2.50GHz',\n",
              "       'Intel Core i5 7200U 2.70GHz', 'Intel Atom X5-Z8350 1.44GHz',\n",
              "       'Intel Core i5 7200U 2.7GHz', 'Intel Core M 1.1GHz',\n",
              "       'Intel Pentium Dual Core 4405Y 1.5GHz',\n",
              "       'Intel Pentium Quad Core N3700 1.6GHz', 'Intel Core M 6Y54 1.1GHz',\n",
              "       'Intel Core i7 6500U 2.50GHz',\n",
              "       'Intel Celeron Dual Core N3350 2GHz',\n",
              "       'Samsung Cortex A72&A53 2.0GHz', 'AMD E-Series 9000 2.2GHz',\n",
              "       'Intel Core M 6Y30 0.9GHz', 'AMD A9-Series 9410 2.9GHz'],\n",
              "      dtype=object)"
            ]
          },
          "metadata": {},
          "execution_count": 118
        }
      ]
    },
    {
      "cell_type": "code",
      "metadata": {
        "id": "vOFc32sxnvyL"
      },
      "source": [
        "df['Cpu']=df['Cpu'].apply(lambda x:' '.join(x.split()[:3]))"
      ],
      "execution_count": 119,
      "outputs": []
    },
    {
      "cell_type": "code",
      "metadata": {
        "colab": {
          "base_uri": "https://localhost:8080/",
          "height": 204
        },
        "id": "jCadRdqWmZgc",
        "outputId": "0ad26e4c-149c-4c43-f4d3-4fbeaca7f498"
      },
      "source": [
        "df.head()"
      ],
      "execution_count": 120,
      "outputs": [
        {
          "output_type": "execute_result",
          "data": {
            "text/html": [
              "<div>\n",
              "<style scoped>\n",
              "    .dataframe tbody tr th:only-of-type {\n",
              "        vertical-align: middle;\n",
              "    }\n",
              "\n",
              "    .dataframe tbody tr th {\n",
              "        vertical-align: top;\n",
              "    }\n",
              "\n",
              "    .dataframe thead th {\n",
              "        text-align: right;\n",
              "    }\n",
              "</style>\n",
              "<table border=\"1\" class=\"dataframe\">\n",
              "  <thead>\n",
              "    <tr style=\"text-align: right;\">\n",
              "      <th></th>\n",
              "      <th>Company</th>\n",
              "      <th>TypeName</th>\n",
              "      <th>Cpu</th>\n",
              "      <th>Ram</th>\n",
              "      <th>Memory</th>\n",
              "      <th>Gpu</th>\n",
              "      <th>OpSys</th>\n",
              "      <th>Weight</th>\n",
              "      <th>Price</th>\n",
              "      <th>Ips</th>\n",
              "      <th>Touchscreen</th>\n",
              "      <th>PPI</th>\n",
              "    </tr>\n",
              "  </thead>\n",
              "  <tbody>\n",
              "    <tr>\n",
              "      <th>0</th>\n",
              "      <td>Apple</td>\n",
              "      <td>Ultrabook</td>\n",
              "      <td>Intel Core i5</td>\n",
              "      <td>8</td>\n",
              "      <td>128GB SSD</td>\n",
              "      <td>Intel Iris Plus Graphics 640</td>\n",
              "      <td>macOS</td>\n",
              "      <td>1.37</td>\n",
              "      <td>71378.6832</td>\n",
              "      <td>1</td>\n",
              "      <td>0</td>\n",
              "      <td>226.98</td>\n",
              "    </tr>\n",
              "    <tr>\n",
              "      <th>1</th>\n",
              "      <td>Apple</td>\n",
              "      <td>Ultrabook</td>\n",
              "      <td>Intel Core i5</td>\n",
              "      <td>8</td>\n",
              "      <td>128GB Flash Storage</td>\n",
              "      <td>Intel HD Graphics 6000</td>\n",
              "      <td>macOS</td>\n",
              "      <td>1.34</td>\n",
              "      <td>47895.5232</td>\n",
              "      <td>0</td>\n",
              "      <td>0</td>\n",
              "      <td>127.68</td>\n",
              "    </tr>\n",
              "    <tr>\n",
              "      <th>2</th>\n",
              "      <td>HP</td>\n",
              "      <td>Notebook</td>\n",
              "      <td>Intel Core i5</td>\n",
              "      <td>8</td>\n",
              "      <td>256GB SSD</td>\n",
              "      <td>Intel HD Graphics 620</td>\n",
              "      <td>No OS</td>\n",
              "      <td>1.86</td>\n",
              "      <td>30636.0000</td>\n",
              "      <td>0</td>\n",
              "      <td>0</td>\n",
              "      <td>141.21</td>\n",
              "    </tr>\n",
              "    <tr>\n",
              "      <th>3</th>\n",
              "      <td>Apple</td>\n",
              "      <td>Ultrabook</td>\n",
              "      <td>Intel Core i7</td>\n",
              "      <td>16</td>\n",
              "      <td>512GB SSD</td>\n",
              "      <td>AMD Radeon Pro 455</td>\n",
              "      <td>macOS</td>\n",
              "      <td>1.83</td>\n",
              "      <td>135195.3360</td>\n",
              "      <td>1</td>\n",
              "      <td>0</td>\n",
              "      <td>220.53</td>\n",
              "    </tr>\n",
              "    <tr>\n",
              "      <th>4</th>\n",
              "      <td>Apple</td>\n",
              "      <td>Ultrabook</td>\n",
              "      <td>Intel Core i5</td>\n",
              "      <td>8</td>\n",
              "      <td>256GB SSD</td>\n",
              "      <td>Intel Iris Plus Graphics 650</td>\n",
              "      <td>macOS</td>\n",
              "      <td>1.37</td>\n",
              "      <td>96095.8080</td>\n",
              "      <td>1</td>\n",
              "      <td>0</td>\n",
              "      <td>226.98</td>\n",
              "    </tr>\n",
              "  </tbody>\n",
              "</table>\n",
              "</div>"
            ],
            "text/plain": [
              "  Company   TypeName            Cpu  Ram  ...        Price Ips Touchscreen     PPI\n",
              "0   Apple  Ultrabook  Intel Core i5    8  ...   71378.6832   1           0  226.98\n",
              "1   Apple  Ultrabook  Intel Core i5    8  ...   47895.5232   0           0  127.68\n",
              "2      HP   Notebook  Intel Core i5    8  ...   30636.0000   0           0  141.21\n",
              "3   Apple  Ultrabook  Intel Core i7   16  ...  135195.3360   1           0  220.53\n",
              "4   Apple  Ultrabook  Intel Core i5    8  ...   96095.8080   1           0  226.98\n",
              "\n",
              "[5 rows x 12 columns]"
            ]
          },
          "metadata": {},
          "execution_count": 120
        }
      ]
    },
    {
      "cell_type": "code",
      "metadata": {
        "colab": {
          "base_uri": "https://localhost:8080/"
        },
        "id": "2vBTcDnptBnQ",
        "outputId": "48227802-9917-4ac6-fd40-b49801390123"
      },
      "source": [
        "df['Cpu'].value_counts()"
      ],
      "execution_count": 121,
      "outputs": [
        {
          "output_type": "execute_result",
          "data": {
            "text/plain": [
              "Intel Core i7               527\n",
              "Intel Core i5               423\n",
              "Intel Core i3               136\n",
              "Intel Celeron Dual           80\n",
              "Intel Pentium Quad           27\n",
              "Intel Core M                 19\n",
              "AMD A9-Series 9420           12\n",
              "AMD A6-Series 9220            8\n",
              "Intel Celeron Quad            8\n",
              "AMD A12-Series 9720P          7\n",
              "Intel Atom x5-Z8350           5\n",
              "Intel Atom x5-Z8550           4\n",
              "AMD A8-Series 7410            4\n",
              "Intel Pentium Dual            3\n",
              "AMD Ryzen 1700                3\n",
              "AMD A9-Series 9410            3\n",
              "AMD A10-Series A10-9620P      2\n",
              "AMD E-Series 7110             2\n",
              "Intel Xeon E3-1505M           2\n",
              "AMD A10-Series 9600P          2\n",
              "AMD E-Series E2-9000e         2\n",
              "AMD A9-Series A9-9420         2\n",
              "AMD A10-Series 9620P          2\n",
              "AMD A6-Series A6-9220         2\n",
              "Intel Atom X5-Z8350           2\n",
              "Intel Xeon E3-1535M           2\n",
              "Samsung Cortex A72&A53        1\n",
              "AMD A6-Series 7310            1\n",
              "AMD Ryzen 1600                1\n",
              "Intel Atom x5-Z8300           1\n",
              "AMD A12-Series 9700P          1\n",
              "AMD E-Series E2-6110          1\n",
              "AMD FX 9830P                  1\n",
              "Intel Atom Z8350              1\n",
              "AMD FX 8800P                  1\n",
              "AMD E-Series 9000             1\n",
              "AMD E-Series E2-9000          1\n",
              "AMD A4-Series 7210            1\n",
              "AMD E-Series 9000e            1\n",
              "AMD E-Series 6110             1\n",
              "Name: Cpu, dtype: int64"
            ]
          },
          "metadata": {},
          "execution_count": 121
        }
      ]
    },
    {
      "cell_type": "code",
      "metadata": {
        "colab": {
          "base_uri": "https://localhost:8080/"
        },
        "id": "WuSOTV2PvBMe",
        "outputId": "5fb79498-5ed1-4fe1-cadb-6cbd98bc3d9f"
      },
      "source": [
        "df.shape"
      ],
      "execution_count": 122,
      "outputs": [
        {
          "output_type": "execute_result",
          "data": {
            "text/plain": [
              "(1303, 12)"
            ]
          },
          "metadata": {},
          "execution_count": 122
        }
      ]
    },
    {
      "cell_type": "code",
      "metadata": {
        "colab": {
          "base_uri": "https://localhost:8080/",
          "height": 80
        },
        "id": "SGeLbgS1uAZA",
        "outputId": "4acd5c69-2efe-4cba-cdd4-14f4d12292d3"
      },
      "source": [
        "(df[df[\"Cpu\"]=='Samsung Cortex A72&A53'])"
      ],
      "execution_count": 123,
      "outputs": [
        {
          "output_type": "execute_result",
          "data": {
            "text/html": [
              "<div>\n",
              "<style scoped>\n",
              "    .dataframe tbody tr th:only-of-type {\n",
              "        vertical-align: middle;\n",
              "    }\n",
              "\n",
              "    .dataframe tbody tr th {\n",
              "        vertical-align: top;\n",
              "    }\n",
              "\n",
              "    .dataframe thead th {\n",
              "        text-align: right;\n",
              "    }\n",
              "</style>\n",
              "<table border=\"1\" class=\"dataframe\">\n",
              "  <thead>\n",
              "    <tr style=\"text-align: right;\">\n",
              "      <th></th>\n",
              "      <th>Company</th>\n",
              "      <th>TypeName</th>\n",
              "      <th>Cpu</th>\n",
              "      <th>Ram</th>\n",
              "      <th>Memory</th>\n",
              "      <th>Gpu</th>\n",
              "      <th>OpSys</th>\n",
              "      <th>Weight</th>\n",
              "      <th>Price</th>\n",
              "      <th>Ips</th>\n",
              "      <th>Touchscreen</th>\n",
              "      <th>PPI</th>\n",
              "    </tr>\n",
              "  </thead>\n",
              "  <tbody>\n",
              "    <tr>\n",
              "      <th>1191</th>\n",
              "      <td>Samsung</td>\n",
              "      <td>2 in 1 Convertible</td>\n",
              "      <td>Samsung Cortex A72&amp;A53</td>\n",
              "      <td>4</td>\n",
              "      <td>32GB Flash Storage</td>\n",
              "      <td>ARM Mali T860 MP4</td>\n",
              "      <td>Chrome OS</td>\n",
              "      <td>1.15</td>\n",
              "      <td>35111.52</td>\n",
              "      <td>1</td>\n",
              "      <td>1</td>\n",
              "      <td>234.51</td>\n",
              "    </tr>\n",
              "  </tbody>\n",
              "</table>\n",
              "</div>"
            ],
            "text/plain": [
              "      Company            TypeName  ... Touchscreen     PPI\n",
              "1191  Samsung  2 in 1 Convertible  ...           1  234.51\n",
              "\n",
              "[1 rows x 12 columns]"
            ]
          },
          "metadata": {},
          "execution_count": 123
        }
      ]
    },
    {
      "cell_type": "code",
      "metadata": {
        "id": "ijyZZ7Z4uqEu"
      },
      "source": [
        "df.drop([1191],axis=0,inplace=True)"
      ],
      "execution_count": 124,
      "outputs": []
    },
    {
      "cell_type": "code",
      "metadata": {
        "id": "_mk_k5VctHp_"
      },
      "source": [
        "def cpu(text):\n",
        "  if text == 'Intel Core i7' or text == 'Intel Core i5' or text == 'Intel Core i3':\n",
        "    return text\n",
        "  else:\n",
        "    if text.split()[0] == 'Intel':\n",
        "      return 'Other intel processor'\n",
        "    else:\n",
        "      return 'AMD Processor'\n"
      ],
      "execution_count": 125,
      "outputs": []
    },
    {
      "cell_type": "code",
      "metadata": {
        "id": "bt_uHnzUwKZw"
      },
      "source": [
        "df['Cpu']=df['Cpu'].apply(cpu)"
      ],
      "execution_count": 126,
      "outputs": []
    },
    {
      "cell_type": "code",
      "metadata": {
        "colab": {
          "base_uri": "https://localhost:8080/"
        },
        "id": "77t6Jb-NwR2H",
        "outputId": "16c5b587-61c8-4322-e56a-e491d984180d"
      },
      "source": [
        "df['Cpu'].value_counts().sum()"
      ],
      "execution_count": 127,
      "outputs": [
        {
          "output_type": "execute_result",
          "data": {
            "text/plain": [
              "1302"
            ]
          },
          "metadata": {},
          "execution_count": 127
        }
      ]
    },
    {
      "cell_type": "code",
      "metadata": {
        "colab": {
          "base_uri": "https://localhost:8080/"
        },
        "id": "tIo7GI63wYsn",
        "outputId": "e3ad4467-4647-4786-fcf2-6f24ad356c49"
      },
      "source": [
        "df.duplicated().sum()"
      ],
      "execution_count": 128,
      "outputs": [
        {
          "output_type": "execute_result",
          "data": {
            "text/plain": [
              "29"
            ]
          },
          "metadata": {},
          "execution_count": 128
        }
      ]
    },
    {
      "cell_type": "code",
      "metadata": {
        "id": "RHJd6B5-xH2F"
      },
      "source": [
        "df.drop_duplicates(inplace=True)"
      ],
      "execution_count": 129,
      "outputs": []
    },
    {
      "cell_type": "code",
      "metadata": {
        "colab": {
          "base_uri": "https://localhost:8080/"
        },
        "id": "wB9MKdc0xP4d",
        "outputId": "4f6368d8-198c-4b42-f6c8-422423693835"
      },
      "source": [
        "df['Cpu'].value_counts()"
      ],
      "execution_count": 130,
      "outputs": [
        {
          "output_type": "execute_result",
          "data": {
            "text/plain": [
              "Intel Core i7            515\n",
              "Intel Core i5            423\n",
              "Other intel processor    141\n",
              "Intel Core i3            134\n",
              "AMD Processor             60\n",
              "Name: Cpu, dtype: int64"
            ]
          },
          "metadata": {},
          "execution_count": 130
        }
      ]
    },
    {
      "cell_type": "code",
      "metadata": {
        "colab": {
          "base_uri": "https://localhost:8080/",
          "height": 204
        },
        "id": "1lm740YFx0jU",
        "outputId": "10ea706c-e242-4843-b806-ae11855913f7"
      },
      "source": [
        "df.head()"
      ],
      "execution_count": 131,
      "outputs": [
        {
          "output_type": "execute_result",
          "data": {
            "text/html": [
              "<div>\n",
              "<style scoped>\n",
              "    .dataframe tbody tr th:only-of-type {\n",
              "        vertical-align: middle;\n",
              "    }\n",
              "\n",
              "    .dataframe tbody tr th {\n",
              "        vertical-align: top;\n",
              "    }\n",
              "\n",
              "    .dataframe thead th {\n",
              "        text-align: right;\n",
              "    }\n",
              "</style>\n",
              "<table border=\"1\" class=\"dataframe\">\n",
              "  <thead>\n",
              "    <tr style=\"text-align: right;\">\n",
              "      <th></th>\n",
              "      <th>Company</th>\n",
              "      <th>TypeName</th>\n",
              "      <th>Cpu</th>\n",
              "      <th>Ram</th>\n",
              "      <th>Memory</th>\n",
              "      <th>Gpu</th>\n",
              "      <th>OpSys</th>\n",
              "      <th>Weight</th>\n",
              "      <th>Price</th>\n",
              "      <th>Ips</th>\n",
              "      <th>Touchscreen</th>\n",
              "      <th>PPI</th>\n",
              "    </tr>\n",
              "  </thead>\n",
              "  <tbody>\n",
              "    <tr>\n",
              "      <th>0</th>\n",
              "      <td>Apple</td>\n",
              "      <td>Ultrabook</td>\n",
              "      <td>Intel Core i5</td>\n",
              "      <td>8</td>\n",
              "      <td>128GB SSD</td>\n",
              "      <td>Intel Iris Plus Graphics 640</td>\n",
              "      <td>macOS</td>\n",
              "      <td>1.37</td>\n",
              "      <td>71378.6832</td>\n",
              "      <td>1</td>\n",
              "      <td>0</td>\n",
              "      <td>226.98</td>\n",
              "    </tr>\n",
              "    <tr>\n",
              "      <th>1</th>\n",
              "      <td>Apple</td>\n",
              "      <td>Ultrabook</td>\n",
              "      <td>Intel Core i5</td>\n",
              "      <td>8</td>\n",
              "      <td>128GB Flash Storage</td>\n",
              "      <td>Intel HD Graphics 6000</td>\n",
              "      <td>macOS</td>\n",
              "      <td>1.34</td>\n",
              "      <td>47895.5232</td>\n",
              "      <td>0</td>\n",
              "      <td>0</td>\n",
              "      <td>127.68</td>\n",
              "    </tr>\n",
              "    <tr>\n",
              "      <th>2</th>\n",
              "      <td>HP</td>\n",
              "      <td>Notebook</td>\n",
              "      <td>Intel Core i5</td>\n",
              "      <td>8</td>\n",
              "      <td>256GB SSD</td>\n",
              "      <td>Intel HD Graphics 620</td>\n",
              "      <td>No OS</td>\n",
              "      <td>1.86</td>\n",
              "      <td>30636.0000</td>\n",
              "      <td>0</td>\n",
              "      <td>0</td>\n",
              "      <td>141.21</td>\n",
              "    </tr>\n",
              "    <tr>\n",
              "      <th>3</th>\n",
              "      <td>Apple</td>\n",
              "      <td>Ultrabook</td>\n",
              "      <td>Intel Core i7</td>\n",
              "      <td>16</td>\n",
              "      <td>512GB SSD</td>\n",
              "      <td>AMD Radeon Pro 455</td>\n",
              "      <td>macOS</td>\n",
              "      <td>1.83</td>\n",
              "      <td>135195.3360</td>\n",
              "      <td>1</td>\n",
              "      <td>0</td>\n",
              "      <td>220.53</td>\n",
              "    </tr>\n",
              "    <tr>\n",
              "      <th>4</th>\n",
              "      <td>Apple</td>\n",
              "      <td>Ultrabook</td>\n",
              "      <td>Intel Core i5</td>\n",
              "      <td>8</td>\n",
              "      <td>256GB SSD</td>\n",
              "      <td>Intel Iris Plus Graphics 650</td>\n",
              "      <td>macOS</td>\n",
              "      <td>1.37</td>\n",
              "      <td>96095.8080</td>\n",
              "      <td>1</td>\n",
              "      <td>0</td>\n",
              "      <td>226.98</td>\n",
              "    </tr>\n",
              "  </tbody>\n",
              "</table>\n",
              "</div>"
            ],
            "text/plain": [
              "  Company   TypeName            Cpu  Ram  ...        Price Ips Touchscreen     PPI\n",
              "0   Apple  Ultrabook  Intel Core i5    8  ...   71378.6832   1           0  226.98\n",
              "1   Apple  Ultrabook  Intel Core i5    8  ...   47895.5232   0           0  127.68\n",
              "2      HP   Notebook  Intel Core i5    8  ...   30636.0000   0           0  141.21\n",
              "3   Apple  Ultrabook  Intel Core i7   16  ...  135195.3360   1           0  220.53\n",
              "4   Apple  Ultrabook  Intel Core i5    8  ...   96095.8080   1           0  226.98\n",
              "\n",
              "[5 rows x 12 columns]"
            ]
          },
          "metadata": {},
          "execution_count": 131
        }
      ]
    },
    {
      "cell_type": "code",
      "metadata": {
        "id": "-UyggwleyRUL",
        "colab": {
          "base_uri": "https://localhost:8080/"
        },
        "outputId": "997ba026-56a9-4c3c-886a-bf1ed6af664a"
      },
      "source": [
        "df.info()"
      ],
      "execution_count": 132,
      "outputs": [
        {
          "output_type": "stream",
          "name": "stdout",
          "text": [
            "<class 'pandas.core.frame.DataFrame'>\n",
            "Int64Index: 1273 entries, 0 to 1273\n",
            "Data columns (total 12 columns):\n",
            " #   Column       Non-Null Count  Dtype  \n",
            "---  ------       --------------  -----  \n",
            " 0   Company      1273 non-null   object \n",
            " 1   TypeName     1273 non-null   object \n",
            " 2   Cpu          1273 non-null   object \n",
            " 3   Ram          1273 non-null   int64  \n",
            " 4   Memory       1273 non-null   object \n",
            " 5   Gpu          1273 non-null   object \n",
            " 6   OpSys        1273 non-null   object \n",
            " 7   Weight       1273 non-null   float64\n",
            " 8   Price        1273 non-null   float64\n",
            " 9   Ips          1273 non-null   int64  \n",
            " 10  Touchscreen  1273 non-null   int64  \n",
            " 11  PPI          1273 non-null   float64\n",
            "dtypes: float64(3), int64(3), object(6)\n",
            "memory usage: 129.3+ KB\n"
          ]
        }
      ]
    },
    {
      "cell_type": "code",
      "metadata": {
        "colab": {
          "base_uri": "https://localhost:8080/"
        },
        "id": "SCEHvBCVyVPL",
        "outputId": "75b4c408-30ed-40aa-ac0f-01ad018f35a7"
      },
      "source": [
        "df.Memory.value_counts()"
      ],
      "execution_count": 133,
      "outputs": [
        {
          "output_type": "execute_result",
          "data": {
            "text/plain": [
              "256GB SSD                        412\n",
              "1TB HDD                          215\n",
              "500GB HDD                        123\n",
              "512GB SSD                        114\n",
              "128GB SSD +  1TB HDD              94\n",
              "128GB SSD                         74\n",
              "256GB SSD +  1TB HDD              73\n",
              "32GB Flash Storage                35\n",
              "2TB HDD                           16\n",
              "512GB SSD +  1TB HDD              14\n",
              "1TB SSD                           14\n",
              "64GB Flash Storage                13\n",
              "256GB SSD +  2TB HDD              10\n",
              "256GB Flash Storage                8\n",
              "1.0TB Hybrid                       7\n",
              "16GB Flash Storage                 7\n",
              "32GB SSD                           6\n",
              "180GB SSD                          5\n",
              "128GB Flash Storage                4\n",
              "16GB SSD                           3\n",
              "512GB SSD +  2TB HDD               3\n",
              "256GB SSD +  256GB SSD             2\n",
              "256GB SSD +  500GB HDD             2\n",
              "128GB SSD +  2TB HDD               2\n",
              "1TB SSD +  1TB HDD                 2\n",
              "512GB Flash Storage                2\n",
              "8GB SSD                            1\n",
              "64GB SSD                           1\n",
              "1TB HDD +  1TB HDD                 1\n",
              "128GB HDD                          1\n",
              "512GB SSD +  256GB SSD             1\n",
              "512GB SSD +  512GB SSD             1\n",
              "32GB HDD                           1\n",
              "256GB SSD +  1.0TB Hybrid          1\n",
              "240GB SSD                          1\n",
              "512GB SSD +  1.0TB Hybrid          1\n",
              "64GB Flash Storage +  1TB HDD      1\n",
              "508GB Hybrid                       1\n",
              "1.0TB HDD                          1\n",
              "Name: Memory, dtype: int64"
            ]
          },
          "metadata": {},
          "execution_count": 133
        }
      ]
    },
    {
      "cell_type": "code",
      "metadata": {
        "id": "PleFeMJNyeX6"
      },
      "source": [
        "df.Memory=df.Memory.str.replace('GB','') #remove GB\n",
        "df.Memory=df.Memory.str.replace('.0TB','000') #Remove .0TB to 000\n",
        "df.Memory=df.Memory.str.replace('TB','000') #Remove TB to 000"
      ],
      "execution_count": 134,
      "outputs": []
    },
    {
      "cell_type": "code",
      "metadata": {
        "colab": {
          "base_uri": "https://localhost:8080/"
        },
        "id": "fXMTTx_Bywgp",
        "outputId": "6d94b7f4-b52c-4c77-d0b7-fd449c8ed03f"
      },
      "source": [
        "df.Memory.value_counts()"
      ],
      "execution_count": 135,
      "outputs": [
        {
          "output_type": "execute_result",
          "data": {
            "text/plain": [
              "256 SSD                         412\n",
              "1000 HDD                        216\n",
              "500 HDD                         123\n",
              "512 SSD                         114\n",
              "128 SSD +  1000 HDD              94\n",
              "128 SSD                          74\n",
              "256 SSD +  1000 HDD              73\n",
              "32 Flash Storage                 35\n",
              "2000 HDD                         16\n",
              "512 SSD +  1000 HDD              14\n",
              "1000 SSD                         14\n",
              "64 Flash Storage                 13\n",
              "256 SSD +  2000 HDD              10\n",
              "256 Flash Storage                 8\n",
              "1000 Hybrid                       7\n",
              "16 Flash Storage                  7\n",
              "32 SSD                            6\n",
              "180 SSD                           5\n",
              "128 Flash Storage                 4\n",
              "512 SSD +  2000 HDD               3\n",
              "16 SSD                            3\n",
              "128 SSD +  2000 HDD               2\n",
              "256 SSD +  256 SSD                2\n",
              "256 SSD +  500 HDD                2\n",
              "512 Flash Storage                 2\n",
              "1000 SSD +  1000 HDD              2\n",
              "512 SSD +  1000 Hybrid            1\n",
              "32 HDD                            1\n",
              "512 SSD +  256 SSD                1\n",
              "1000 HDD +  1000 HDD              1\n",
              "256 SSD +  1000 Hybrid            1\n",
              "240 SSD                           1\n",
              "64 SSD                            1\n",
              "508 Hybrid                        1\n",
              "512 SSD +  512 SSD                1\n",
              "8 SSD                             1\n",
              "64 Flash Storage +  1000 HDD      1\n",
              "128 HDD                           1\n",
              "Name: Memory, dtype: int64"
            ]
          },
          "metadata": {},
          "execution_count": 135
        }
      ]
    },
    {
      "cell_type": "code",
      "metadata": {
        "id": "eRDIGCKP0xaz"
      },
      "source": [
        "# def memory(text):\n",
        "#   if text == 'SSD'"
      ],
      "execution_count": 136,
      "outputs": []
    },
    {
      "cell_type": "code",
      "metadata": {
        "id": "DnKIAzLa29bL"
      },
      "source": [
        "Test =df.Memory.str.split('+' , n=1, expand=True)"
      ],
      "execution_count": 137,
      "outputs": []
    },
    {
      "cell_type": "code",
      "metadata": {
        "id": "VOY3KxwO1HSH"
      },
      "source": [
        "Test['tempssd'] = Test[0].apply(lambda x : 1 if 'SSD' in x else 0)"
      ],
      "execution_count": 138,
      "outputs": []
    },
    {
      "cell_type": "code",
      "metadata": {
        "id": "VYnyL-tB2GD1"
      },
      "source": [
        "Test['temphdd'] = Test[0].apply(lambda x : 1 if 'HDD' in x else 0)"
      ],
      "execution_count": 139,
      "outputs": []
    },
    {
      "cell_type": "code",
      "metadata": {
        "id": "F-ufgODQ2Pwh"
      },
      "source": [
        "Test['temphybrid'] = Test[0].apply(lambda x : 1 if 'Hybrid' in x else 0)"
      ],
      "execution_count": 140,
      "outputs": []
    },
    {
      "cell_type": "code",
      "metadata": {
        "id": "axDClTaB2aoM"
      },
      "source": [
        "Test['tempFlashStorage'] = Test[0].apply(lambda x : 1 if 'Flash Storage' in x else 0)"
      ],
      "execution_count": 141,
      "outputs": []
    },
    {
      "cell_type": "code",
      "metadata": {
        "id": "GJPtsKj-3nV8"
      },
      "source": [
        "Test.fillna('0',inplace=True)"
      ],
      "execution_count": 142,
      "outputs": []
    },
    {
      "cell_type": "code",
      "metadata": {
        "id": "fN19K7W03SLT"
      },
      "source": [
        "Test['tempssd1'] = Test[1].apply(lambda x : 1 if 'SSD' in x else 0)\n",
        "Test['temphdd1'] = Test[1].apply(lambda x : 1 if 'HDD' in x else 0)\n",
        "Test['temphybrid1'] = Test[1].apply(lambda x : 1 if 'Hybrid' in x else 0)\n",
        "Test['tempFlashStorage1'] = Test[1].apply(lambda x : 1 if 'Flash Storage' in x else 0)"
      ],
      "execution_count": 143,
      "outputs": []
    },
    {
      "cell_type": "code",
      "metadata": {
        "colab": {
          "base_uri": "https://localhost:8080/",
          "height": 204
        },
        "id": "Qb9CDyZX3AUb",
        "outputId": "0c6c7fad-ada3-4c0e-91fb-443140625525"
      },
      "source": [
        "Test.sample(5)"
      ],
      "execution_count": 144,
      "outputs": [
        {
          "output_type": "execute_result",
          "data": {
            "text/html": [
              "<div>\n",
              "<style scoped>\n",
              "    .dataframe tbody tr th:only-of-type {\n",
              "        vertical-align: middle;\n",
              "    }\n",
              "\n",
              "    .dataframe tbody tr th {\n",
              "        vertical-align: top;\n",
              "    }\n",
              "\n",
              "    .dataframe thead th {\n",
              "        text-align: right;\n",
              "    }\n",
              "</style>\n",
              "<table border=\"1\" class=\"dataframe\">\n",
              "  <thead>\n",
              "    <tr style=\"text-align: right;\">\n",
              "      <th></th>\n",
              "      <th>0</th>\n",
              "      <th>1</th>\n",
              "      <th>tempssd</th>\n",
              "      <th>temphdd</th>\n",
              "      <th>temphybrid</th>\n",
              "      <th>tempFlashStorage</th>\n",
              "      <th>tempssd1</th>\n",
              "      <th>temphdd1</th>\n",
              "      <th>temphybrid1</th>\n",
              "      <th>tempFlashStorage1</th>\n",
              "    </tr>\n",
              "  </thead>\n",
              "  <tbody>\n",
              "    <tr>\n",
              "      <th>903</th>\n",
              "      <td>256 Flash Storage</td>\n",
              "      <td>0</td>\n",
              "      <td>0</td>\n",
              "      <td>0</td>\n",
              "      <td>0</td>\n",
              "      <td>1</td>\n",
              "      <td>0</td>\n",
              "      <td>0</td>\n",
              "      <td>0</td>\n",
              "      <td>0</td>\n",
              "    </tr>\n",
              "    <tr>\n",
              "      <th>155</th>\n",
              "      <td>256 SSD</td>\n",
              "      <td>0</td>\n",
              "      <td>1</td>\n",
              "      <td>0</td>\n",
              "      <td>0</td>\n",
              "      <td>0</td>\n",
              "      <td>0</td>\n",
              "      <td>0</td>\n",
              "      <td>0</td>\n",
              "      <td>0</td>\n",
              "    </tr>\n",
              "    <tr>\n",
              "      <th>206</th>\n",
              "      <td>1000 HDD</td>\n",
              "      <td>0</td>\n",
              "      <td>0</td>\n",
              "      <td>1</td>\n",
              "      <td>0</td>\n",
              "      <td>0</td>\n",
              "      <td>0</td>\n",
              "      <td>0</td>\n",
              "      <td>0</td>\n",
              "      <td>0</td>\n",
              "    </tr>\n",
              "    <tr>\n",
              "      <th>346</th>\n",
              "      <td>32 Flash Storage</td>\n",
              "      <td>0</td>\n",
              "      <td>0</td>\n",
              "      <td>0</td>\n",
              "      <td>0</td>\n",
              "      <td>1</td>\n",
              "      <td>0</td>\n",
              "      <td>0</td>\n",
              "      <td>0</td>\n",
              "      <td>0</td>\n",
              "    </tr>\n",
              "    <tr>\n",
              "      <th>734</th>\n",
              "      <td>256 SSD</td>\n",
              "      <td>0</td>\n",
              "      <td>1</td>\n",
              "      <td>0</td>\n",
              "      <td>0</td>\n",
              "      <td>0</td>\n",
              "      <td>0</td>\n",
              "      <td>0</td>\n",
              "      <td>0</td>\n",
              "      <td>0</td>\n",
              "    </tr>\n",
              "  </tbody>\n",
              "</table>\n",
              "</div>"
            ],
            "text/plain": [
              "                     0  1  tempssd  ...  temphdd1  temphybrid1  tempFlashStorage1\n",
              "903  256 Flash Storage  0        0  ...         0            0                  0\n",
              "155            256 SSD  0        1  ...         0            0                  0\n",
              "206           1000 HDD  0        0  ...         0            0                  0\n",
              "346   32 Flash Storage  0        0  ...         0            0                  0\n",
              "734            256 SSD  0        1  ...         0            0                  0\n",
              "\n",
              "[5 rows x 10 columns]"
            ]
          },
          "metadata": {},
          "execution_count": 144
        }
      ]
    },
    {
      "cell_type": "code",
      "metadata": {
        "id": "Wqa-ZPSD3Iqa"
      },
      "source": [
        "Test[0]=Test[0].str.replace(r'\\D','')\n",
        "Test[1]=Test[1].str.replace(r'\\D','')"
      ],
      "execution_count": 145,
      "outputs": []
    },
    {
      "cell_type": "code",
      "metadata": {
        "colab": {
          "base_uri": "https://localhost:8080/",
          "height": 204
        },
        "id": "KoNIbKIYz_MP",
        "outputId": "2e178c8b-fb58-49fc-d896-c011eddbc431"
      },
      "source": [
        "Test.sample(5)"
      ],
      "execution_count": 146,
      "outputs": [
        {
          "output_type": "execute_result",
          "data": {
            "text/html": [
              "<div>\n",
              "<style scoped>\n",
              "    .dataframe tbody tr th:only-of-type {\n",
              "        vertical-align: middle;\n",
              "    }\n",
              "\n",
              "    .dataframe tbody tr th {\n",
              "        vertical-align: top;\n",
              "    }\n",
              "\n",
              "    .dataframe thead th {\n",
              "        text-align: right;\n",
              "    }\n",
              "</style>\n",
              "<table border=\"1\" class=\"dataframe\">\n",
              "  <thead>\n",
              "    <tr style=\"text-align: right;\">\n",
              "      <th></th>\n",
              "      <th>0</th>\n",
              "      <th>1</th>\n",
              "      <th>tempssd</th>\n",
              "      <th>temphdd</th>\n",
              "      <th>temphybrid</th>\n",
              "      <th>tempFlashStorage</th>\n",
              "      <th>tempssd1</th>\n",
              "      <th>temphdd1</th>\n",
              "      <th>temphybrid1</th>\n",
              "      <th>tempFlashStorage1</th>\n",
              "    </tr>\n",
              "  </thead>\n",
              "  <tbody>\n",
              "    <tr>\n",
              "      <th>609</th>\n",
              "      <td>128</td>\n",
              "      <td>0</td>\n",
              "      <td>0</td>\n",
              "      <td>0</td>\n",
              "      <td>0</td>\n",
              "      <td>1</td>\n",
              "      <td>0</td>\n",
              "      <td>0</td>\n",
              "      <td>0</td>\n",
              "      <td>0</td>\n",
              "    </tr>\n",
              "    <tr>\n",
              "      <th>1229</th>\n",
              "      <td>128</td>\n",
              "      <td>1000</td>\n",
              "      <td>1</td>\n",
              "      <td>0</td>\n",
              "      <td>0</td>\n",
              "      <td>0</td>\n",
              "      <td>0</td>\n",
              "      <td>1</td>\n",
              "      <td>0</td>\n",
              "      <td>0</td>\n",
              "    </tr>\n",
              "    <tr>\n",
              "      <th>1147</th>\n",
              "      <td>256</td>\n",
              "      <td>0</td>\n",
              "      <td>1</td>\n",
              "      <td>0</td>\n",
              "      <td>0</td>\n",
              "      <td>0</td>\n",
              "      <td>0</td>\n",
              "      <td>0</td>\n",
              "      <td>0</td>\n",
              "      <td>0</td>\n",
              "    </tr>\n",
              "    <tr>\n",
              "      <th>430</th>\n",
              "      <td>16</td>\n",
              "      <td>0</td>\n",
              "      <td>0</td>\n",
              "      <td>0</td>\n",
              "      <td>0</td>\n",
              "      <td>1</td>\n",
              "      <td>0</td>\n",
              "      <td>0</td>\n",
              "      <td>0</td>\n",
              "      <td>0</td>\n",
              "    </tr>\n",
              "    <tr>\n",
              "      <th>1230</th>\n",
              "      <td>512</td>\n",
              "      <td>0</td>\n",
              "      <td>1</td>\n",
              "      <td>0</td>\n",
              "      <td>0</td>\n",
              "      <td>0</td>\n",
              "      <td>0</td>\n",
              "      <td>0</td>\n",
              "      <td>0</td>\n",
              "      <td>0</td>\n",
              "    </tr>\n",
              "  </tbody>\n",
              "</table>\n",
              "</div>"
            ],
            "text/plain": [
              "        0     1  tempssd  ...  temphdd1  temphybrid1  tempFlashStorage1\n",
              "609   128     0        0  ...         0            0                  0\n",
              "1229  128  1000        1  ...         1            0                  0\n",
              "1147  256     0        1  ...         0            0                  0\n",
              "430    16     0        0  ...         0            0                  0\n",
              "1230  512     0        1  ...         0            0                  0\n",
              "\n",
              "[5 rows x 10 columns]"
            ]
          },
          "metadata": {},
          "execution_count": 146
        }
      ]
    },
    {
      "cell_type": "code",
      "metadata": {
        "id": "6-KFBhoyQgOg"
      },
      "source": [
        "Test[0] = Test[0].astype(int)\n",
        "Test[1] = Test[1].astype(int)"
      ],
      "execution_count": 147,
      "outputs": []
    },
    {
      "cell_type": "code",
      "metadata": {
        "id": "CSpqvRYzOur_"
      },
      "source": [
        "df['SSD']=Test[0]*Test['tempssd']+Test[1]*Test['tempssd1']\n",
        "df['HHD']=Test[0]*Test['temphdd']+Test[1]*Test['temphdd1']\n",
        "df['Hybrid']=Test[0]*Test['temphybrid']+Test[1]*Test['temphybrid1']\n",
        "df['FlashStorage']=Test[0]*Test['tempFlashStorage']+Test[1]*Test['tempFlashStorage1']"
      ],
      "execution_count": 148,
      "outputs": []
    },
    {
      "cell_type": "code",
      "metadata": {
        "id": "aE2QZzc50GwO",
        "colab": {
          "base_uri": "https://localhost:8080/"
        },
        "outputId": "4864562b-5ff7-4bbf-cf2c-c48ed0a96098"
      },
      "source": [
        "df.corr()['Price']"
      ],
      "execution_count": 149,
      "outputs": [
        {
          "output_type": "execute_result",
          "data": {
            "text/plain": [
              "Ram             0.739996\n",
              "Weight          0.211667\n",
              "Price           1.000000\n",
              "Ips             0.251514\n",
              "Touchscreen     0.190382\n",
              "PPI             0.345142\n",
              "SSD             0.669808\n",
              "HHD            -0.098481\n",
              "Hybrid          0.022490\n",
              "FlashStorage   -0.036712\n",
              "Name: Price, dtype: float64"
            ]
          },
          "metadata": {},
          "execution_count": 149
        }
      ]
    },
    {
      "cell_type": "code",
      "metadata": {
        "colab": {
          "base_uri": "https://localhost:8080/",
          "height": 296
        },
        "id": "dccwUtG2P44h",
        "outputId": "a2aff308-7e60-4d07-cb36-31a03d180466"
      },
      "source": [
        "sns.scatterplot(x=df.SSD, y=df.Price)"
      ],
      "execution_count": 150,
      "outputs": [
        {
          "output_type": "execute_result",
          "data": {
            "text/plain": [
              "<matplotlib.axes._subplots.AxesSubplot at 0x7f2273bcae90>"
            ]
          },
          "metadata": {},
          "execution_count": 150
        },
        {
          "output_type": "display_data",
          "data": {
            "image/png": "[encoded data removed]",
            "text/plain": [
              "<Figure size 432x288 with 1 Axes>"
            ]
          },
          "metadata": {
            "needs_background": "light"
          }
        }
      ]
    },
    {
      "cell_type": "code",
      "metadata": {
        "colab": {
          "base_uri": "https://localhost:8080/",
          "height": 289
        },
        "id": "5Zkr-CPkTUqf",
        "outputId": "3c9a62bc-22b6-41a5-e8a0-886ab675925f"
      },
      "source": [
        "df.head()"
      ],
      "execution_count": 151,
      "outputs": [
        {
          "output_type": "execute_result",
          "data": {
            "text/html": [
              "<div>\n",
              "<style scoped>\n",
              "    .dataframe tbody tr th:only-of-type {\n",
              "        vertical-align: middle;\n",
              "    }\n",
              "\n",
              "    .dataframe tbody tr th {\n",
              "        vertical-align: top;\n",
              "    }\n",
              "\n",
              "    .dataframe thead th {\n",
              "        text-align: right;\n",
              "    }\n",
              "</style>\n",
              "<table border=\"1\" class=\"dataframe\">\n",
              "  <thead>\n",
              "    <tr style=\"text-align: right;\">\n",
              "      <th></th>\n",
              "      <th>Company</th>\n",
              "      <th>TypeName</th>\n",
              "      <th>Cpu</th>\n",
              "      <th>Ram</th>\n",
              "      <th>Memory</th>\n",
              "      <th>Gpu</th>\n",
              "      <th>OpSys</th>\n",
              "      <th>Weight</th>\n",
              "      <th>Price</th>\n",
              "      <th>Ips</th>\n",
              "      <th>Touchscreen</th>\n",
              "      <th>PPI</th>\n",
              "      <th>SSD</th>\n",
              "      <th>HHD</th>\n",
              "      <th>Hybrid</th>\n",
              "      <th>FlashStorage</th>\n",
              "    </tr>\n",
              "  </thead>\n",
              "  <tbody>\n",
              "    <tr>\n",
              "      <th>0</th>\n",
              "      <td>Apple</td>\n",
              "      <td>Ultrabook</td>\n",
              "      <td>Intel Core i5</td>\n",
              "      <td>8</td>\n",
              "      <td>128 SSD</td>\n",
              "      <td>Intel Iris Plus Graphics 640</td>\n",
              "      <td>macOS</td>\n",
              "      <td>1.37</td>\n",
              "      <td>71378.6832</td>\n",
              "      <td>1</td>\n",
              "      <td>0</td>\n",
              "      <td>226.98</td>\n",
              "      <td>128</td>\n",
              "      <td>0</td>\n",
              "      <td>0</td>\n",
              "      <td>0</td>\n",
              "    </tr>\n",
              "    <tr>\n",
              "      <th>1</th>\n",
              "      <td>Apple</td>\n",
              "      <td>Ultrabook</td>\n",
              "      <td>Intel Core i5</td>\n",
              "      <td>8</td>\n",
              "      <td>128 Flash Storage</td>\n",
              "      <td>Intel HD Graphics 6000</td>\n",
              "      <td>macOS</td>\n",
              "      <td>1.34</td>\n",
              "      <td>47895.5232</td>\n",
              "      <td>0</td>\n",
              "      <td>0</td>\n",
              "      <td>127.68</td>\n",
              "      <td>0</td>\n",
              "      <td>0</td>\n",
              "      <td>0</td>\n",
              "      <td>128</td>\n",
              "    </tr>\n",
              "    <tr>\n",
              "      <th>2</th>\n",
              "      <td>HP</td>\n",
              "      <td>Notebook</td>\n",
              "      <td>Intel Core i5</td>\n",
              "      <td>8</td>\n",
              "      <td>256 SSD</td>\n",
              "      <td>Intel HD Graphics 620</td>\n",
              "      <td>No OS</td>\n",
              "      <td>1.86</td>\n",
              "      <td>30636.0000</td>\n",
              "      <td>0</td>\n",
              "      <td>0</td>\n",
              "      <td>141.21</td>\n",
              "      <td>256</td>\n",
              "      <td>0</td>\n",
              "      <td>0</td>\n",
              "      <td>0</td>\n",
              "    </tr>\n",
              "    <tr>\n",
              "      <th>3</th>\n",
              "      <td>Apple</td>\n",
              "      <td>Ultrabook</td>\n",
              "      <td>Intel Core i7</td>\n",
              "      <td>16</td>\n",
              "      <td>512 SSD</td>\n",
              "      <td>AMD Radeon Pro 455</td>\n",
              "      <td>macOS</td>\n",
              "      <td>1.83</td>\n",
              "      <td>135195.3360</td>\n",
              "      <td>1</td>\n",
              "      <td>0</td>\n",
              "      <td>220.53</td>\n",
              "      <td>512</td>\n",
              "      <td>0</td>\n",
              "      <td>0</td>\n",
              "      <td>0</td>\n",
              "    </tr>\n",
              "    <tr>\n",
              "      <th>4</th>\n",
              "      <td>Apple</td>\n",
              "      <td>Ultrabook</td>\n",
              "      <td>Intel Core i5</td>\n",
              "      <td>8</td>\n",
              "      <td>256 SSD</td>\n",
              "      <td>Intel Iris Plus Graphics 650</td>\n",
              "      <td>macOS</td>\n",
              "      <td>1.37</td>\n",
              "      <td>96095.8080</td>\n",
              "      <td>1</td>\n",
              "      <td>0</td>\n",
              "      <td>226.98</td>\n",
              "      <td>256</td>\n",
              "      <td>0</td>\n",
              "      <td>0</td>\n",
              "      <td>0</td>\n",
              "    </tr>\n",
              "  </tbody>\n",
              "</table>\n",
              "</div>"
            ],
            "text/plain": [
              "  Company   TypeName            Cpu  Ram  ...  SSD HHD Hybrid  FlashStorage\n",
              "0   Apple  Ultrabook  Intel Core i5    8  ...  128   0      0             0\n",
              "1   Apple  Ultrabook  Intel Core i5    8  ...    0   0      0           128\n",
              "2      HP   Notebook  Intel Core i5    8  ...  256   0      0             0\n",
              "3   Apple  Ultrabook  Intel Core i7   16  ...  512   0      0             0\n",
              "4   Apple  Ultrabook  Intel Core i5    8  ...  256   0      0             0\n",
              "\n",
              "[5 rows x 16 columns]"
            ]
          },
          "metadata": {},
          "execution_count": 151
        }
      ]
    },
    {
      "cell_type": "code",
      "metadata": {
        "id": "J25MdMYhTaWD"
      },
      "source": [
        "df.drop(columns='Memory',inplace=True)"
      ],
      "execution_count": 152,
      "outputs": []
    },
    {
      "cell_type": "code",
      "metadata": {
        "colab": {
          "base_uri": "https://localhost:8080/"
        },
        "id": "Kk-NaFdITkOr",
        "outputId": "4dd38fe0-d602-4519-fa18-dc6332a79400"
      },
      "source": [
        "df.Gpu.value_counts()"
      ],
      "execution_count": 153,
      "outputs": [
        {
          "output_type": "execute_result",
          "data": {
            "text/plain": [
              "Intel HD Graphics 620      279\n",
              "Intel HD Graphics 520      181\n",
              "Intel UHD Graphics 620      68\n",
              "Nvidia GeForce GTX 1050     66\n",
              "Nvidia GeForce GTX 1060     48\n",
              "                          ... \n",
              "AMD Radeon R7 M365X          1\n",
              "AMD Radeon RX 560            1\n",
              "Nvidia GeForce 940M          1\n",
              "Nvidia GeForce 960M          1\n",
              "Nvidia Quadro M3000M         1\n",
              "Name: Gpu, Length: 109, dtype: int64"
            ]
          },
          "metadata": {},
          "execution_count": 153
        }
      ]
    },
    {
      "cell_type": "code",
      "metadata": {
        "colab": {
          "base_uri": "https://localhost:8080/"
        },
        "id": "wgX3OBEeTqEb",
        "outputId": "bf1f4de1-6206-48cc-e88c-458af2936369"
      },
      "source": [
        "df.Gpu.unique()"
      ],
      "execution_count": 154,
      "outputs": [
        {
          "output_type": "execute_result",
          "data": {
            "text/plain": [
              "array(['Intel Iris Plus Graphics 640', 'Intel HD Graphics 6000',\n",
              "       'Intel HD Graphics 620', 'AMD Radeon Pro 455',\n",
              "       'Intel Iris Plus Graphics 650', 'AMD Radeon R5',\n",
              "       'Intel Iris Pro Graphics', 'Nvidia GeForce MX150',\n",
              "       'Intel UHD Graphics 620', 'Intel HD Graphics 520',\n",
              "       'AMD Radeon Pro 555', 'AMD Radeon R5 M430',\n",
              "       'Intel HD Graphics 615', 'AMD Radeon Pro 560',\n",
              "       'Nvidia GeForce 940MX', 'Intel HD Graphics 400',\n",
              "       'Nvidia GeForce GTX 1050', 'AMD Radeon R2', 'AMD Radeon 530',\n",
              "       'Nvidia GeForce 930MX', 'Intel HD Graphics',\n",
              "       'Intel HD Graphics 500', 'Nvidia GeForce 930MX ',\n",
              "       'Nvidia GeForce GTX 1060', 'Nvidia GeForce 150MX',\n",
              "       'Intel Iris Graphics 540', 'AMD Radeon RX 580',\n",
              "       'Nvidia GeForce 920MX', 'AMD Radeon R4 Graphics', 'AMD Radeon 520',\n",
              "       'Nvidia GeForce GTX 1070', 'Nvidia GeForce GTX 1050 Ti',\n",
              "       'Nvidia GeForce MX130', 'AMD R4 Graphics',\n",
              "       'Nvidia GeForce GTX 940MX', 'AMD Radeon RX 560',\n",
              "       'Nvidia GeForce 920M', 'AMD Radeon R7 M445', 'AMD Radeon RX 550',\n",
              "       'Nvidia GeForce GTX 1050M', 'Intel HD Graphics 515',\n",
              "       'AMD Radeon R5 M420', 'Intel HD Graphics 505',\n",
              "       'Nvidia GTX 980 SLI', 'AMD R17M-M1-70', 'Nvidia GeForce GTX 1080',\n",
              "       'Nvidia Quadro M1200', 'Nvidia GeForce 920MX ',\n",
              "       'Nvidia GeForce GTX 950M', 'AMD FirePro W4190M ',\n",
              "       'Nvidia GeForce GTX 980M', 'Intel Iris Graphics 550',\n",
              "       'Nvidia GeForce 930M', 'Intel HD Graphics 630',\n",
              "       'AMD Radeon R5 430', 'Nvidia GeForce GTX 940M',\n",
              "       'Intel HD Graphics 510', 'Intel HD Graphics 405',\n",
              "       'AMD Radeon RX 540', 'Nvidia GeForce GT 940MX',\n",
              "       'AMD FirePro W5130M', 'Nvidia Quadro M2200M', 'AMD Radeon R4',\n",
              "       'Nvidia Quadro M620', 'AMD Radeon R7 M460',\n",
              "       'Intel HD Graphics 530', 'Nvidia GeForce GTX 965M',\n",
              "       'Nvidia GeForce GTX1080', 'Nvidia GeForce GTX1050 Ti',\n",
              "       'Nvidia GeForce GTX 960M', 'AMD Radeon R2 Graphics',\n",
              "       'Nvidia Quadro M620M', 'Nvidia GeForce GTX 970M',\n",
              "       'Nvidia GeForce GTX 960<U+039C>', 'Intel Graphics 620',\n",
              "       'Nvidia GeForce GTX 960', 'AMD Radeon R5 520',\n",
              "       'AMD Radeon R7 M440', 'AMD Radeon R7', 'Nvidia Quadro M520M',\n",
              "       'Nvidia Quadro M2200', 'Nvidia Quadro M2000M',\n",
              "       'Intel HD Graphics 540', 'Nvidia Quadro M1000M', 'AMD Radeon 540',\n",
              "       'Nvidia GeForce GTX 1070M', 'Nvidia GeForce GTX1060',\n",
              "       'Intel HD Graphics 5300', 'AMD Radeon R5 M420X',\n",
              "       'AMD Radeon R7 Graphics', 'Nvidia GeForce 920',\n",
              "       'Nvidia GeForce 940M', 'Nvidia GeForce GTX 930MX',\n",
              "       'AMD Radeon R7 M465', 'AMD Radeon R3', 'Nvidia GeForce GTX 1050Ti',\n",
              "       'AMD Radeon R7 M365X', 'AMD Radeon R9 M385',\n",
              "       'Intel HD Graphics 620 ', 'Nvidia Quadro 3000M',\n",
              "       'Nvidia GeForce GTX 980 ', 'AMD Radeon R5 M330',\n",
              "       'AMD FirePro W4190M', 'AMD FirePro W6150M', 'AMD Radeon R5 M315',\n",
              "       'Nvidia Quadro M500M', 'AMD Radeon R7 M360',\n",
              "       'Nvidia Quadro M3000M', 'Nvidia GeForce 960M'], dtype=object)"
            ]
          },
          "metadata": {},
          "execution_count": 154
        }
      ]
    },
    {
      "cell_type": "code",
      "metadata": {
        "id": "qYLF4PC9UrN8"
      },
      "source": [
        "def gpu(text):\n",
        "  if 'Nvidia' in text:\n",
        "    return 'Nvidia'\n",
        "  elif \"AMD\" in text:\n",
        "    return 'AMD'\n",
        "  elif \"Intel\" in text:\n",
        "    return 'Intel'"
      ],
      "execution_count": 155,
      "outputs": []
    },
    {
      "cell_type": "code",
      "metadata": {
        "id": "pcYs50zwVGa6"
      },
      "source": [
        "df['Gpu'] = df['Gpu'].apply(gpu)"
      ],
      "execution_count": 156,
      "outputs": []
    },
    {
      "cell_type": "code",
      "metadata": {
        "colab": {
          "base_uri": "https://localhost:8080/",
          "height": 204
        },
        "id": "Dr7ZYDxFWs7R",
        "outputId": "7522b086-55f8-4675-93b6-201c863ca868"
      },
      "source": [
        "df.head()"
      ],
      "execution_count": 157,
      "outputs": [
        {
          "output_type": "execute_result",
          "data": {
            "text/html": [
              "<div>\n",
              "<style scoped>\n",
              "    .dataframe tbody tr th:only-of-type {\n",
              "        vertical-align: middle;\n",
              "    }\n",
              "\n",
              "    .dataframe tbody tr th {\n",
              "        vertical-align: top;\n",
              "    }\n",
              "\n",
              "    .dataframe thead th {\n",
              "        text-align: right;\n",
              "    }\n",
              "</style>\n",
              "<table border=\"1\" class=\"dataframe\">\n",
              "  <thead>\n",
              "    <tr style=\"text-align: right;\">\n",
              "      <th></th>\n",
              "      <th>Company</th>\n",
              "      <th>TypeName</th>\n",
              "      <th>Cpu</th>\n",
              "      <th>Ram</th>\n",
              "      <th>Gpu</th>\n",
              "      <th>OpSys</th>\n",
              "      <th>Weight</th>\n",
              "      <th>Price</th>\n",
              "      <th>Ips</th>\n",
              "      <th>Touchscreen</th>\n",
              "      <th>PPI</th>\n",
              "      <th>SSD</th>\n",
              "      <th>HHD</th>\n",
              "      <th>Hybrid</th>\n",
              "      <th>FlashStorage</th>\n",
              "    </tr>\n",
              "  </thead>\n",
              "  <tbody>\n",
              "    <tr>\n",
              "      <th>0</th>\n",
              "      <td>Apple</td>\n",
              "      <td>Ultrabook</td>\n",
              "      <td>Intel Core i5</td>\n",
              "      <td>8</td>\n",
              "      <td>Intel</td>\n",
              "      <td>macOS</td>\n",
              "      <td>1.37</td>\n",
              "      <td>71378.6832</td>\n",
              "      <td>1</td>\n",
              "      <td>0</td>\n",
              "      <td>226.98</td>\n",
              "      <td>128</td>\n",
              "      <td>0</td>\n",
              "      <td>0</td>\n",
              "      <td>0</td>\n",
              "    </tr>\n",
              "    <tr>\n",
              "      <th>1</th>\n",
              "      <td>Apple</td>\n",
              "      <td>Ultrabook</td>\n",
              "      <td>Intel Core i5</td>\n",
              "      <td>8</td>\n",
              "      <td>Intel</td>\n",
              "      <td>macOS</td>\n",
              "      <td>1.34</td>\n",
              "      <td>47895.5232</td>\n",
              "      <td>0</td>\n",
              "      <td>0</td>\n",
              "      <td>127.68</td>\n",
              "      <td>0</td>\n",
              "      <td>0</td>\n",
              "      <td>0</td>\n",
              "      <td>128</td>\n",
              "    </tr>\n",
              "    <tr>\n",
              "      <th>2</th>\n",
              "      <td>HP</td>\n",
              "      <td>Notebook</td>\n",
              "      <td>Intel Core i5</td>\n",
              "      <td>8</td>\n",
              "      <td>Intel</td>\n",
              "      <td>No OS</td>\n",
              "      <td>1.86</td>\n",
              "      <td>30636.0000</td>\n",
              "      <td>0</td>\n",
              "      <td>0</td>\n",
              "      <td>141.21</td>\n",
              "      <td>256</td>\n",
              "      <td>0</td>\n",
              "      <td>0</td>\n",
              "      <td>0</td>\n",
              "    </tr>\n",
              "    <tr>\n",
              "      <th>3</th>\n",
              "      <td>Apple</td>\n",
              "      <td>Ultrabook</td>\n",
              "      <td>Intel Core i7</td>\n",
              "      <td>16</td>\n",
              "      <td>AMD</td>\n",
              "      <td>macOS</td>\n",
              "      <td>1.83</td>\n",
              "      <td>135195.3360</td>\n",
              "      <td>1</td>\n",
              "      <td>0</td>\n",
              "      <td>220.53</td>\n",
              "      <td>512</td>\n",
              "      <td>0</td>\n",
              "      <td>0</td>\n",
              "      <td>0</td>\n",
              "    </tr>\n",
              "    <tr>\n",
              "      <th>4</th>\n",
              "      <td>Apple</td>\n",
              "      <td>Ultrabook</td>\n",
              "      <td>Intel Core i5</td>\n",
              "      <td>8</td>\n",
              "      <td>Intel</td>\n",
              "      <td>macOS</td>\n",
              "      <td>1.37</td>\n",
              "      <td>96095.8080</td>\n",
              "      <td>1</td>\n",
              "      <td>0</td>\n",
              "      <td>226.98</td>\n",
              "      <td>256</td>\n",
              "      <td>0</td>\n",
              "      <td>0</td>\n",
              "      <td>0</td>\n",
              "    </tr>\n",
              "  </tbody>\n",
              "</table>\n",
              "</div>"
            ],
            "text/plain": [
              "  Company   TypeName            Cpu  Ram  ...  SSD HHD  Hybrid  FlashStorage\n",
              "0   Apple  Ultrabook  Intel Core i5    8  ...  128   0       0             0\n",
              "1   Apple  Ultrabook  Intel Core i5    8  ...    0   0       0           128\n",
              "2      HP   Notebook  Intel Core i5    8  ...  256   0       0             0\n",
              "3   Apple  Ultrabook  Intel Core i7   16  ...  512   0       0             0\n",
              "4   Apple  Ultrabook  Intel Core i5    8  ...  256   0       0             0\n",
              "\n",
              "[5 rows x 15 columns]"
            ]
          },
          "metadata": {},
          "execution_count": 157
        }
      ]
    },
    {
      "cell_type": "code",
      "metadata": {
        "id": "2TZWR6THWvg7"
      },
      "source": [
        "# df.drop(columns='gpu1',inplace=True)"
      ],
      "execution_count": 158,
      "outputs": []
    },
    {
      "cell_type": "code",
      "metadata": {
        "id": "81lyC6C-VXXg"
      },
      "source": [
        "# df.gpu1.value_counts()"
      ],
      "execution_count": 159,
      "outputs": []
    },
    {
      "cell_type": "code",
      "metadata": {
        "colab": {
          "base_uri": "https://localhost:8080/"
        },
        "id": "TTdWK_bhVdBX",
        "outputId": "5779b162-db33-4b20-ca53-24277ca0b41b"
      },
      "source": [
        "df.OpSys.value_counts()"
      ],
      "execution_count": 160,
      "outputs": [
        {
          "output_type": "execute_result",
          "data": {
            "text/plain": [
              "Windows 10      1047\n",
              "No OS             66\n",
              "Linux             58\n",
              "Windows 7         45\n",
              "Chrome OS         26\n",
              "macOS             13\n",
              "Windows 10 S       8\n",
              "Mac OS X           8\n",
              "Android            2\n",
              "Name: OpSys, dtype: int64"
            ]
          },
          "metadata": {},
          "execution_count": 160
        }
      ]
    },
    {
      "cell_type": "code",
      "metadata": {
        "id": "DUa2WcwRYE7z",
        "colab": {
          "base_uri": "https://localhost:8080/",
          "height": 342
        },
        "outputId": "4ba17fca-b498-448e-a527-9924613ee857"
      },
      "source": [
        "df.OpSys.value_counts().plot(kind='bar')"
      ],
      "execution_count": 161,
      "outputs": [
        {
          "output_type": "execute_result",
          "data": {
            "text/plain": [
              "<matplotlib.axes._subplots.AxesSubplot at 0x7f2273ae6650>"
            ]
          },
          "metadata": {},
          "execution_count": 161
        },
        {
          "output_type": "display_data",
          "data": {
            "image/png": "[encoded data removed]",
            "text/plain": [
              "<Figure size 432x288 with 1 Axes>"
            ]
          },
          "metadata": {
            "needs_background": "light"
          }
        }
      ]
    },
    {
      "cell_type": "code",
      "metadata": {
        "id": "HoqZGnlZYT06"
      },
      "source": [
        "def os(text):\n",
        "  if 'Windows' in text:\n",
        "    return 'Windows'\n",
        "  elif 'macOS' in text:\n",
        "    return 'mac'\n",
        "  else:\n",
        "    return 'other'"
      ],
      "execution_count": 162,
      "outputs": []
    },
    {
      "cell_type": "code",
      "metadata": {
        "id": "g73u8VT2ZT9i"
      },
      "source": [
        "df['os']=df['OpSys'].apply(os)"
      ],
      "execution_count": 163,
      "outputs": []
    },
    {
      "cell_type": "code",
      "metadata": {
        "colab": {
          "base_uri": "https://localhost:8080/",
          "height": 204
        },
        "id": "N7InbEh0ZgYI",
        "outputId": "b5e2ce54-53f6-43f7-86fb-7937851ef8e4"
      },
      "source": [
        "df.head()"
      ],
      "execution_count": 164,
      "outputs": [
        {
          "output_type": "execute_result",
          "data": {
            "text/html": [
              "<div>\n",
              "<style scoped>\n",
              "    .dataframe tbody tr th:only-of-type {\n",
              "        vertical-align: middle;\n",
              "    }\n",
              "\n",
              "    .dataframe tbody tr th {\n",
              "        vertical-align: top;\n",
              "    }\n",
              "\n",
              "    .dataframe thead th {\n",
              "        text-align: right;\n",
              "    }\n",
              "</style>\n",
              "<table border=\"1\" class=\"dataframe\">\n",
              "  <thead>\n",
              "    <tr style=\"text-align: right;\">\n",
              "      <th></th>\n",
              "      <th>Company</th>\n",
              "      <th>TypeName</th>\n",
              "      <th>Cpu</th>\n",
              "      <th>Ram</th>\n",
              "      <th>Gpu</th>\n",
              "      <th>OpSys</th>\n",
              "      <th>Weight</th>\n",
              "      <th>Price</th>\n",
              "      <th>Ips</th>\n",
              "      <th>Touchscreen</th>\n",
              "      <th>PPI</th>\n",
              "      <th>SSD</th>\n",
              "      <th>HHD</th>\n",
              "      <th>Hybrid</th>\n",
              "      <th>FlashStorage</th>\n",
              "      <th>os</th>\n",
              "    </tr>\n",
              "  </thead>\n",
              "  <tbody>\n",
              "    <tr>\n",
              "      <th>0</th>\n",
              "      <td>Apple</td>\n",
              "      <td>Ultrabook</td>\n",
              "      <td>Intel Core i5</td>\n",
              "      <td>8</td>\n",
              "      <td>Intel</td>\n",
              "      <td>macOS</td>\n",
              "      <td>1.37</td>\n",
              "      <td>71378.6832</td>\n",
              "      <td>1</td>\n",
              "      <td>0</td>\n",
              "      <td>226.98</td>\n",
              "      <td>128</td>\n",
              "      <td>0</td>\n",
              "      <td>0</td>\n",
              "      <td>0</td>\n",
              "      <td>mac</td>\n",
              "    </tr>\n",
              "    <tr>\n",
              "      <th>1</th>\n",
              "      <td>Apple</td>\n",
              "      <td>Ultrabook</td>\n",
              "      <td>Intel Core i5</td>\n",
              "      <td>8</td>\n",
              "      <td>Intel</td>\n",
              "      <td>macOS</td>\n",
              "      <td>1.34</td>\n",
              "      <td>47895.5232</td>\n",
              "      <td>0</td>\n",
              "      <td>0</td>\n",
              "      <td>127.68</td>\n",
              "      <td>0</td>\n",
              "      <td>0</td>\n",
              "      <td>0</td>\n",
              "      <td>128</td>\n",
              "      <td>mac</td>\n",
              "    </tr>\n",
              "    <tr>\n",
              "      <th>2</th>\n",
              "      <td>HP</td>\n",
              "      <td>Notebook</td>\n",
              "      <td>Intel Core i5</td>\n",
              "      <td>8</td>\n",
              "      <td>Intel</td>\n",
              "      <td>No OS</td>\n",
              "      <td>1.86</td>\n",
              "      <td>30636.0000</td>\n",
              "      <td>0</td>\n",
              "      <td>0</td>\n",
              "      <td>141.21</td>\n",
              "      <td>256</td>\n",
              "      <td>0</td>\n",
              "      <td>0</td>\n",
              "      <td>0</td>\n",
              "      <td>other</td>\n",
              "    </tr>\n",
              "    <tr>\n",
              "      <th>3</th>\n",
              "      <td>Apple</td>\n",
              "      <td>Ultrabook</td>\n",
              "      <td>Intel Core i7</td>\n",
              "      <td>16</td>\n",
              "      <td>AMD</td>\n",
              "      <td>macOS</td>\n",
              "      <td>1.83</td>\n",
              "      <td>135195.3360</td>\n",
              "      <td>1</td>\n",
              "      <td>0</td>\n",
              "      <td>220.53</td>\n",
              "      <td>512</td>\n",
              "      <td>0</td>\n",
              "      <td>0</td>\n",
              "      <td>0</td>\n",
              "      <td>mac</td>\n",
              "    </tr>\n",
              "    <tr>\n",
              "      <th>4</th>\n",
              "      <td>Apple</td>\n",
              "      <td>Ultrabook</td>\n",
              "      <td>Intel Core i5</td>\n",
              "      <td>8</td>\n",
              "      <td>Intel</td>\n",
              "      <td>macOS</td>\n",
              "      <td>1.37</td>\n",
              "      <td>96095.8080</td>\n",
              "      <td>1</td>\n",
              "      <td>0</td>\n",
              "      <td>226.98</td>\n",
              "      <td>256</td>\n",
              "      <td>0</td>\n",
              "      <td>0</td>\n",
              "      <td>0</td>\n",
              "      <td>mac</td>\n",
              "    </tr>\n",
              "  </tbody>\n",
              "</table>\n",
              "</div>"
            ],
            "text/plain": [
              "  Company   TypeName            Cpu  Ram  ... HHD Hybrid  FlashStorage     os\n",
              "0   Apple  Ultrabook  Intel Core i5    8  ...   0      0             0    mac\n",
              "1   Apple  Ultrabook  Intel Core i5    8  ...   0      0           128    mac\n",
              "2      HP   Notebook  Intel Core i5    8  ...   0      0             0  other\n",
              "3   Apple  Ultrabook  Intel Core i7   16  ...   0      0             0    mac\n",
              "4   Apple  Ultrabook  Intel Core i5    8  ...   0      0             0    mac\n",
              "\n",
              "[5 rows x 16 columns]"
            ]
          },
          "metadata": {},
          "execution_count": 164
        }
      ]
    },
    {
      "cell_type": "code",
      "metadata": {
        "colab": {
          "base_uri": "https://localhost:8080/"
        },
        "id": "0BVG8jZub5wS",
        "outputId": "50e7fa1a-e5fe-455b-d746-66f3757748e9"
      },
      "source": [
        "df.corr()['Price']"
      ],
      "execution_count": 165,
      "outputs": [
        {
          "output_type": "execute_result",
          "data": {
            "text/plain": [
              "Ram             0.739996\n",
              "Weight          0.211667\n",
              "Price           1.000000\n",
              "Ips             0.251514\n",
              "Touchscreen     0.190382\n",
              "PPI             0.345142\n",
              "SSD             0.669808\n",
              "HHD            -0.098481\n",
              "Hybrid          0.022490\n",
              "FlashStorage   -0.036712\n",
              "Name: Price, dtype: float64"
            ]
          },
          "metadata": {},
          "execution_count": 165
        }
      ]
    },
    {
      "cell_type": "code",
      "metadata": {
        "id": "j83ZVaxWZh1Q"
      },
      "source": [
        "df.drop(columns=['OpSys','Hybrid','FlashStorage'],inplace=True)"
      ],
      "execution_count": 166,
      "outputs": []
    },
    {
      "cell_type": "code",
      "metadata": {
        "colab": {
          "base_uri": "https://localhost:8080/",
          "height": 204
        },
        "id": "QQEgXApRclA0",
        "outputId": "71130715-98eb-4c0e-e757-55a0f262f57e"
      },
      "source": [
        "df.head()"
      ],
      "execution_count": 167,
      "outputs": [
        {
          "output_type": "execute_result",
          "data": {
            "text/html": [
              "<div>\n",
              "<style scoped>\n",
              "    .dataframe tbody tr th:only-of-type {\n",
              "        vertical-align: middle;\n",
              "    }\n",
              "\n",
              "    .dataframe tbody tr th {\n",
              "        vertical-align: top;\n",
              "    }\n",
              "\n",
              "    .dataframe thead th {\n",
              "        text-align: right;\n",
              "    }\n",
              "</style>\n",
              "<table border=\"1\" class=\"dataframe\">\n",
              "  <thead>\n",
              "    <tr style=\"text-align: right;\">\n",
              "      <th></th>\n",
              "      <th>Company</th>\n",
              "      <th>TypeName</th>\n",
              "      <th>Cpu</th>\n",
              "      <th>Ram</th>\n",
              "      <th>Gpu</th>\n",
              "      <th>Weight</th>\n",
              "      <th>Price</th>\n",
              "      <th>Ips</th>\n",
              "      <th>Touchscreen</th>\n",
              "      <th>PPI</th>\n",
              "      <th>SSD</th>\n",
              "      <th>HHD</th>\n",
              "      <th>os</th>\n",
              "    </tr>\n",
              "  </thead>\n",
              "  <tbody>\n",
              "    <tr>\n",
              "      <th>0</th>\n",
              "      <td>Apple</td>\n",
              "      <td>Ultrabook</td>\n",
              "      <td>Intel Core i5</td>\n",
              "      <td>8</td>\n",
              "      <td>Intel</td>\n",
              "      <td>1.37</td>\n",
              "      <td>71378.6832</td>\n",
              "      <td>1</td>\n",
              "      <td>0</td>\n",
              "      <td>226.98</td>\n",
              "      <td>128</td>\n",
              "      <td>0</td>\n",
              "      <td>mac</td>\n",
              "    </tr>\n",
              "    <tr>\n",
              "      <th>1</th>\n",
              "      <td>Apple</td>\n",
              "      <td>Ultrabook</td>\n",
              "      <td>Intel Core i5</td>\n",
              "      <td>8</td>\n",
              "      <td>Intel</td>\n",
              "      <td>1.34</td>\n",
              "      <td>47895.5232</td>\n",
              "      <td>0</td>\n",
              "      <td>0</td>\n",
              "      <td>127.68</td>\n",
              "      <td>0</td>\n",
              "      <td>0</td>\n",
              "      <td>mac</td>\n",
              "    </tr>\n",
              "    <tr>\n",
              "      <th>2</th>\n",
              "      <td>HP</td>\n",
              "      <td>Notebook</td>\n",
              "      <td>Intel Core i5</td>\n",
              "      <td>8</td>\n",
              "      <td>Intel</td>\n",
              "      <td>1.86</td>\n",
              "      <td>30636.0000</td>\n",
              "      <td>0</td>\n",
              "      <td>0</td>\n",
              "      <td>141.21</td>\n",
              "      <td>256</td>\n",
              "      <td>0</td>\n",
              "      <td>other</td>\n",
              "    </tr>\n",
              "    <tr>\n",
              "      <th>3</th>\n",
              "      <td>Apple</td>\n",
              "      <td>Ultrabook</td>\n",
              "      <td>Intel Core i7</td>\n",
              "      <td>16</td>\n",
              "      <td>AMD</td>\n",
              "      <td>1.83</td>\n",
              "      <td>135195.3360</td>\n",
              "      <td>1</td>\n",
              "      <td>0</td>\n",
              "      <td>220.53</td>\n",
              "      <td>512</td>\n",
              "      <td>0</td>\n",
              "      <td>mac</td>\n",
              "    </tr>\n",
              "    <tr>\n",
              "      <th>4</th>\n",
              "      <td>Apple</td>\n",
              "      <td>Ultrabook</td>\n",
              "      <td>Intel Core i5</td>\n",
              "      <td>8</td>\n",
              "      <td>Intel</td>\n",
              "      <td>1.37</td>\n",
              "      <td>96095.8080</td>\n",
              "      <td>1</td>\n",
              "      <td>0</td>\n",
              "      <td>226.98</td>\n",
              "      <td>256</td>\n",
              "      <td>0</td>\n",
              "      <td>mac</td>\n",
              "    </tr>\n",
              "  </tbody>\n",
              "</table>\n",
              "</div>"
            ],
            "text/plain": [
              "  Company   TypeName            Cpu  Ram  ...     PPI  SSD  HHD     os\n",
              "0   Apple  Ultrabook  Intel Core i5    8  ...  226.98  128    0    mac\n",
              "1   Apple  Ultrabook  Intel Core i5    8  ...  127.68    0    0    mac\n",
              "2      HP   Notebook  Intel Core i5    8  ...  141.21  256    0  other\n",
              "3   Apple  Ultrabook  Intel Core i7   16  ...  220.53  512    0    mac\n",
              "4   Apple  Ultrabook  Intel Core i5    8  ...  226.98  256    0    mac\n",
              "\n",
              "[5 rows x 13 columns]"
            ]
          },
          "metadata": {},
          "execution_count": 167
        }
      ]
    },
    {
      "cell_type": "code",
      "metadata": {
        "colab": {
          "base_uri": "https://localhost:8080/",
          "height": 338
        },
        "id": "l_jxcM9NcnO6",
        "outputId": "4c4ad475-94d1-4a36-ad75-e1f120b9ef06"
      },
      "source": [
        "sns.heatmap(df.corr())"
      ],
      "execution_count": 168,
      "outputs": [
        {
          "output_type": "execute_result",
          "data": {
            "text/plain": [
              "<matplotlib.axes._subplots.AxesSubplot at 0x7f2273c37850>"
            ]
          },
          "metadata": {},
          "execution_count": 168
        },
        {
          "output_type": "display_data",
          "data": {
            "image/png": "[encoded data removed]",
            "text/plain": [
              "<Figure size 432x288 with 2 Axes>"
            ]
          },
          "metadata": {
            "needs_background": "light"
          }
        }
      ]
    },
    {
      "cell_type": "code",
      "metadata": {
        "id": "jVH1NOAIcwq6",
        "colab": {
          "base_uri": "https://localhost:8080/",
          "height": 208
        },
        "outputId": "919343aa-bc02-475f-8c86-89f0757e82ee"
      },
      "source": [
        "corr = df.corr()\n",
        "corr.style.background_gradient(cmap='coolwarm')"
      ],
      "execution_count": 169,
      "outputs": [
        {
          "output_type": "execute_result",
          "data": {
            "text/html": [
              "<style  type=\"text/css\" >\n",
              "#T_f016afa8_188b_11ec_9e35_0242ac1c0002row0_col0,#T_f016afa8_188b_11ec_9e35_0242ac1c0002row1_col1,#T_f016afa8_188b_11ec_9e35_0242ac1c0002row2_col2,#T_f016afa8_188b_11ec_9e35_0242ac1c0002row3_col3,#T_f016afa8_188b_11ec_9e35_0242ac1c0002row4_col4,#T_f016afa8_188b_11ec_9e35_0242ac1c0002row5_col5,#T_f016afa8_188b_11ec_9e35_0242ac1c0002row6_col6,#T_f016afa8_188b_11ec_9e35_0242ac1c0002row7_col7{\n",
              "            background-color:  #b40426;\n",
              "            color:  #f1f1f1;\n",
              "        }#T_f016afa8_188b_11ec_9e35_0242ac1c0002row0_col1{\n",
              "            background-color:  #efcfbf;\n",
              "            color:  #000000;\n",
              "        }#T_f016afa8_188b_11ec_9e35_0242ac1c0002row0_col2,#T_f016afa8_188b_11ec_9e35_0242ac1c0002row2_col6{\n",
              "            background-color:  #f39475;\n",
              "            color:  #000000;\n",
              "        }#T_f016afa8_188b_11ec_9e35_0242ac1c0002row0_col3{\n",
              "            background-color:  #93b5fe;\n",
              "            color:  #000000;\n",
              "        }#T_f016afa8_188b_11ec_9e35_0242ac1c0002row0_col4,#T_f016afa8_188b_11ec_9e35_0242ac1c0002row2_col3{\n",
              "            background-color:  #a3c2fe;\n",
              "            color:  #000000;\n",
              "        }#T_f016afa8_188b_11ec_9e35_0242ac1c0002row0_col5{\n",
              "            background-color:  #c9d7f0;\n",
              "            color:  #000000;\n",
              "        }#T_f016afa8_188b_11ec_9e35_0242ac1c0002row0_col6,#T_f016afa8_188b_11ec_9e35_0242ac1c0002row2_col0{\n",
              "            background-color:  #f7a889;\n",
              "            color:  #000000;\n",
              "        }#T_f016afa8_188b_11ec_9e35_0242ac1c0002row0_col7{\n",
              "            background-color:  #b2ccfb;\n",
              "            color:  #000000;\n",
              "        }#T_f016afa8_188b_11ec_9e35_0242ac1c0002row1_col0{\n",
              "            background-color:  #a6c4fe;\n",
              "            color:  #000000;\n",
              "        }#T_f016afa8_188b_11ec_9e35_0242ac1c0002row1_col2{\n",
              "            background-color:  #98b9ff;\n",
              "            color:  #000000;\n",
              "        }#T_f016afa8_188b_11ec_9e35_0242ac1c0002row1_col3{\n",
              "            background-color:  #5a78e4;\n",
              "            color:  #000000;\n",
              "        }#T_f016afa8_188b_11ec_9e35_0242ac1c0002row1_col4,#T_f016afa8_188b_11ec_9e35_0242ac1c0002row1_col5,#T_f016afa8_188b_11ec_9e35_0242ac1c0002row5_col1,#T_f016afa8_188b_11ec_9e35_0242ac1c0002row6_col7,#T_f016afa8_188b_11ec_9e35_0242ac1c0002row7_col0,#T_f016afa8_188b_11ec_9e35_0242ac1c0002row7_col2,#T_f016afa8_188b_11ec_9e35_0242ac1c0002row7_col3,#T_f016afa8_188b_11ec_9e35_0242ac1c0002row7_col6{\n",
              "            background-color:  #3b4cc0;\n",
              "            color:  #f1f1f1;\n",
              "        }#T_f016afa8_188b_11ec_9e35_0242ac1c0002row1_col6{\n",
              "            background-color:  #8badfd;\n",
              "            color:  #000000;\n",
              "        }#T_f016afa8_188b_11ec_9e35_0242ac1c0002row1_col7{\n",
              "            background-color:  #f6bda2;\n",
              "            color:  #000000;\n",
              "        }#T_f016afa8_188b_11ec_9e35_0242ac1c0002row2_col1{\n",
              "            background-color:  #d1dae9;\n",
              "            color:  #000000;\n",
              "        }#T_f016afa8_188b_11ec_9e35_0242ac1c0002row2_col4{\n",
              "            background-color:  #b7cff9;\n",
              "            color:  #000000;\n",
              "        }#T_f016afa8_188b_11ec_9e35_0242ac1c0002row2_col5{\n",
              "            background-color:  #e9d5cb;\n",
              "            color:  #000000;\n",
              "        }#T_f016afa8_188b_11ec_9e35_0242ac1c0002row2_col7{\n",
              "            background-color:  #81a4fb;\n",
              "            color:  #000000;\n",
              "        }#T_f016afa8_188b_11ec_9e35_0242ac1c0002row3_col0{\n",
              "            background-color:  #5e7de7;\n",
              "            color:  #000000;\n",
              "        }#T_f016afa8_188b_11ec_9e35_0242ac1c0002row3_col1{\n",
              "            background-color:  #a7c5fe;\n",
              "            color:  #000000;\n",
              "        }#T_f016afa8_188b_11ec_9e35_0242ac1c0002row3_col2{\n",
              "            background-color:  #a5c3fe;\n",
              "            color:  #000000;\n",
              "        }#T_f016afa8_188b_11ec_9e35_0242ac1c0002row3_col4,#T_f016afa8_188b_11ec_9e35_0242ac1c0002row5_col3{\n",
              "            background-color:  #aac7fd;\n",
              "            color:  #000000;\n",
              "        }#T_f016afa8_188b_11ec_9e35_0242ac1c0002row3_col5{\n",
              "            background-color:  #dcdddd;\n",
              "            color:  #000000;\n",
              "        }#T_f016afa8_188b_11ec_9e35_0242ac1c0002row3_col6{\n",
              "            background-color:  #ccd9ed;\n",
              "            color:  #000000;\n",
              "        }#T_f016afa8_188b_11ec_9e35_0242ac1c0002row3_col7{\n",
              "            background-color:  #82a6fb;\n",
              "            color:  #000000;\n",
              "        }#T_f016afa8_188b_11ec_9e35_0242ac1c0002row4_col0{\n",
              "            background-color:  #3f53c6;\n",
              "            color:  #f1f1f1;\n",
              "        }#T_f016afa8_188b_11ec_9e35_0242ac1c0002row4_col1{\n",
              "            background-color:  #5b7ae5;\n",
              "            color:  #000000;\n",
              "        }#T_f016afa8_188b_11ec_9e35_0242ac1c0002row4_col2{\n",
              "            background-color:  #92b4fe;\n",
              "            color:  #000000;\n",
              "        }#T_f016afa8_188b_11ec_9e35_0242ac1c0002row4_col3{\n",
              "            background-color:  #7ea1fa;\n",
              "            color:  #000000;\n",
              "        }#T_f016afa8_188b_11ec_9e35_0242ac1c0002row4_col5,#T_f016afa8_188b_11ec_9e35_0242ac1c0002row6_col5{\n",
              "            background-color:  #f0cdbb;\n",
              "            color:  #000000;\n",
              "        }#T_f016afa8_188b_11ec_9e35_0242ac1c0002row4_col6{\n",
              "            background-color:  #d4dbe6;\n",
              "            color:  #000000;\n",
              "        }#T_f016afa8_188b_11ec_9e35_0242ac1c0002row4_col7{\n",
              "            background-color:  #6687ed;\n",
              "            color:  #000000;\n",
              "        }#T_f016afa8_188b_11ec_9e35_0242ac1c0002row5_col0{\n",
              "            background-color:  #5470de;\n",
              "            color:  #000000;\n",
              "        }#T_f016afa8_188b_11ec_9e35_0242ac1c0002row5_col2{\n",
              "            background-color:  #c1d4f4;\n",
              "            color:  #000000;\n",
              "        }#T_f016afa8_188b_11ec_9e35_0242ac1c0002row5_col4{\n",
              "            background-color:  #e6d7cf;\n",
              "            color:  #000000;\n",
              "        }#T_f016afa8_188b_11ec_9e35_0242ac1c0002row5_col6{\n",
              "            background-color:  #eed0c0;\n",
              "            color:  #000000;\n",
              "        }#T_f016afa8_188b_11ec_9e35_0242ac1c0002row5_col7{\n",
              "            background-color:  #4055c8;\n",
              "            color:  #f1f1f1;\n",
              "        }#T_f016afa8_188b_11ec_9e35_0242ac1c0002row6_col0{\n",
              "            background-color:  #ead4c8;\n",
              "            color:  #000000;\n",
              "        }#T_f016afa8_188b_11ec_9e35_0242ac1c0002row6_col1{\n",
              "            background-color:  #94b6ff;\n",
              "            color:  #000000;\n",
              "        }#T_f016afa8_188b_11ec_9e35_0242ac1c0002row6_col2{\n",
              "            background-color:  #f7ac8e;\n",
              "            color:  #000000;\n",
              "        }#T_f016afa8_188b_11ec_9e35_0242ac1c0002row6_col3{\n",
              "            background-color:  #97b8ff;\n",
              "            color:  #000000;\n",
              "        }#T_f016afa8_188b_11ec_9e35_0242ac1c0002row6_col4{\n",
              "            background-color:  #c6d6f1;\n",
              "            color:  #000000;\n",
              "        }#T_f016afa8_188b_11ec_9e35_0242ac1c0002row7_col1{\n",
              "            background-color:  #f7b99e;\n",
              "            color:  #000000;\n",
              "        }#T_f016afa8_188b_11ec_9e35_0242ac1c0002row7_col4{\n",
              "            background-color:  #4f69d9;\n",
              "            color:  #000000;\n",
              "        }#T_f016afa8_188b_11ec_9e35_0242ac1c0002row7_col5{\n",
              "            background-color:  #4b64d5;\n",
              "            color:  #f1f1f1;\n",
              "        }</style><table id=\"T_f016afa8_188b_11ec_9e35_0242ac1c0002\" ><thead>    <tr>        <th class=\"blank level0\" ></th>        <th class=\"col_heading level0 col0\" >Ram</th>        <th class=\"col_heading level0 col1\" >Weight</th>        <th class=\"col_heading level0 col2\" >Price</th>        <th class=\"col_heading level0 col3\" >Ips</th>        <th class=\"col_heading level0 col4\" >Touchscreen</th>        <th class=\"col_heading level0 col5\" >PPI</th>        <th class=\"col_heading level0 col6\" >SSD</th>        <th class=\"col_heading level0 col7\" >HHD</th>    </tr></thead><tbody>\n",
              "                <tr>\n",
              "                        <th id=\"T_f016afa8_188b_11ec_9e35_0242ac1c0002level0_row0\" class=\"row_heading level0 row0\" >Ram</th>\n",
              "                        <td id=\"T_f016afa8_188b_11ec_9e35_0242ac1c0002row0_col0\" class=\"data row0 col0\" >1.000000</td>\n",
              "                        <td id=\"T_f016afa8_188b_11ec_9e35_0242ac1c0002row0_col1\" class=\"data row0 col1\" >0.389134</td>\n",
              "                        <td id=\"T_f016afa8_188b_11ec_9e35_0242ac1c0002row0_col2\" class=\"data row0 col2\" >0.739996</td>\n",
              "                        <td id=\"T_f016afa8_188b_11ec_9e35_0242ac1c0002row0_col3\" class=\"data row0 col3\" >0.202809</td>\n",
              "                        <td id=\"T_f016afa8_188b_11ec_9e35_0242ac1c0002row0_col4\" class=\"data row0 col4\" >0.113316</td>\n",
              "                        <td id=\"T_f016afa8_188b_11ec_9e35_0242ac1c0002row0_col5\" class=\"data row0 col5\" >0.172968</td>\n",
              "                        <td id=\"T_f016afa8_188b_11ec_9e35_0242ac1c0002row0_col6\" class=\"data row0 col6\" >0.599552</td>\n",
              "                        <td id=\"T_f016afa8_188b_11ec_9e35_0242ac1c0002row0_col7\" class=\"data row0 col7\" >0.097340</td>\n",
              "            </tr>\n",
              "            <tr>\n",
              "                        <th id=\"T_f016afa8_188b_11ec_9e35_0242ac1c0002level0_row1\" class=\"row_heading level0 row1\" >Weight</th>\n",
              "                        <td id=\"T_f016afa8_188b_11ec_9e35_0242ac1c0002row1_col0\" class=\"data row1 col0\" >0.389134</td>\n",
              "                        <td id=\"T_f016afa8_188b_11ec_9e35_0242ac1c0002row1_col1\" class=\"data row1 col1\" >1.000000</td>\n",
              "                        <td id=\"T_f016afa8_188b_11ec_9e35_0242ac1c0002row1_col2\" class=\"data row1 col2\" >0.211667</td>\n",
              "                        <td id=\"T_f016afa8_188b_11ec_9e35_0242ac1c0002row1_col3\" class=\"data row1 col3\" >0.023966</td>\n",
              "                        <td id=\"T_f016afa8_188b_11ec_9e35_0242ac1c0002row1_col4\" class=\"data row1 col4\" >-0.292288</td>\n",
              "                        <td id=\"T_f016afa8_188b_11ec_9e35_0242ac1c0002row1_col5\" class=\"data row1 col5\" >-0.448843</td>\n",
              "                        <td id=\"T_f016afa8_188b_11ec_9e35_0242ac1c0002row1_col6\" class=\"data row1 col6\" >-0.056985</td>\n",
              "                        <td id=\"T_f016afa8_188b_11ec_9e35_0242ac1c0002row1_col7\" class=\"data row1 col7\" >0.510876</td>\n",
              "            </tr>\n",
              "            <tr>\n",
              "                        <th id=\"T_f016afa8_188b_11ec_9e35_0242ac1c0002level0_row2\" class=\"row_heading level0 row2\" >Price</th>\n",
              "                        <td id=\"T_f016afa8_188b_11ec_9e35_0242ac1c0002row2_col0\" class=\"data row2 col0\" >0.739996</td>\n",
              "                        <td id=\"T_f016afa8_188b_11ec_9e35_0242ac1c0002row2_col1\" class=\"data row2 col1\" >0.211667</td>\n",
              "                        <td id=\"T_f016afa8_188b_11ec_9e35_0242ac1c0002row2_col2\" class=\"data row2 col2\" >1.000000</td>\n",
              "                        <td id=\"T_f016afa8_188b_11ec_9e35_0242ac1c0002row2_col3\" class=\"data row2 col3\" >0.251514</td>\n",
              "                        <td id=\"T_f016afa8_188b_11ec_9e35_0242ac1c0002row2_col4\" class=\"data row2 col4\" >0.190382</td>\n",
              "                        <td id=\"T_f016afa8_188b_11ec_9e35_0242ac1c0002row2_col5\" class=\"data row2 col5\" >0.345142</td>\n",
              "                        <td id=\"T_f016afa8_188b_11ec_9e35_0242ac1c0002row2_col6\" class=\"data row2 col6\" >0.669808</td>\n",
              "                        <td id=\"T_f016afa8_188b_11ec_9e35_0242ac1c0002row2_col7\" class=\"data row2 col7\" >-0.098481</td>\n",
              "            </tr>\n",
              "            <tr>\n",
              "                        <th id=\"T_f016afa8_188b_11ec_9e35_0242ac1c0002level0_row3\" class=\"row_heading level0 row3\" >Ips</th>\n",
              "                        <td id=\"T_f016afa8_188b_11ec_9e35_0242ac1c0002row3_col0\" class=\"data row3 col0\" >0.202809</td>\n",
              "                        <td id=\"T_f016afa8_188b_11ec_9e35_0242ac1c0002row3_col1\" class=\"data row3 col1\" >0.023966</td>\n",
              "                        <td id=\"T_f016afa8_188b_11ec_9e35_0242ac1c0002row3_col2\" class=\"data row3 col2\" >0.251514</td>\n",
              "                        <td id=\"T_f016afa8_188b_11ec_9e35_0242ac1c0002row3_col3\" class=\"data row3 col3\" >1.000000</td>\n",
              "                        <td id=\"T_f016afa8_188b_11ec_9e35_0242ac1c0002row3_col4\" class=\"data row3 col4\" >0.136973</td>\n",
              "                        <td id=\"T_f016afa8_188b_11ec_9e35_0242ac1c0002row3_col5\" class=\"data row3 col5\" >0.271661</td>\n",
              "                        <td id=\"T_f016afa8_188b_11ec_9e35_0242ac1c0002row3_col6\" class=\"data row3 col6\" >0.215197</td>\n",
              "                        <td id=\"T_f016afa8_188b_11ec_9e35_0242ac1c0002row3_col7\" class=\"data row3 col7\" >-0.090411</td>\n",
              "            </tr>\n",
              "            <tr>\n",
              "                        <th id=\"T_f016afa8_188b_11ec_9e35_0242ac1c0002level0_row4\" class=\"row_heading level0 row4\" >Touchscreen</th>\n",
              "                        <td id=\"T_f016afa8_188b_11ec_9e35_0242ac1c0002row4_col0\" class=\"data row4 col0\" >0.113316</td>\n",
              "                        <td id=\"T_f016afa8_188b_11ec_9e35_0242ac1c0002row4_col1\" class=\"data row4 col1\" >-0.292288</td>\n",
              "                        <td id=\"T_f016afa8_188b_11ec_9e35_0242ac1c0002row4_col2\" class=\"data row4 col2\" >0.190382</td>\n",
              "                        <td id=\"T_f016afa8_188b_11ec_9e35_0242ac1c0002row4_col3\" class=\"data row4 col3\" >0.136973</td>\n",
              "                        <td id=\"T_f016afa8_188b_11ec_9e35_0242ac1c0002row4_col4\" class=\"data row4 col4\" >1.000000</td>\n",
              "                        <td id=\"T_f016afa8_188b_11ec_9e35_0242ac1c0002row4_col5\" class=\"data row4 col5\" >0.403958</td>\n",
              "                        <td id=\"T_f016afa8_188b_11ec_9e35_0242ac1c0002row4_col6\" class=\"data row4 col6\" >0.252142</td>\n",
              "                        <td id=\"T_f016afa8_188b_11ec_9e35_0242ac1c0002row4_col7\" class=\"data row4 col7\" >-0.205105</td>\n",
              "            </tr>\n",
              "            <tr>\n",
              "                        <th id=\"T_f016afa8_188b_11ec_9e35_0242ac1c0002level0_row5\" class=\"row_heading level0 row5\" >PPI</th>\n",
              "                        <td id=\"T_f016afa8_188b_11ec_9e35_0242ac1c0002row5_col0\" class=\"data row5 col0\" >0.172968</td>\n",
              "                        <td id=\"T_f016afa8_188b_11ec_9e35_0242ac1c0002row5_col1\" class=\"data row5 col1\" >-0.448843</td>\n",
              "                        <td id=\"T_f016afa8_188b_11ec_9e35_0242ac1c0002row5_col2\" class=\"data row5 col2\" >0.345142</td>\n",
              "                        <td id=\"T_f016afa8_188b_11ec_9e35_0242ac1c0002row5_col3\" class=\"data row5 col3\" >0.271661</td>\n",
              "                        <td id=\"T_f016afa8_188b_11ec_9e35_0242ac1c0002row5_col4\" class=\"data row5 col4\" >0.403958</td>\n",
              "                        <td id=\"T_f016afa8_188b_11ec_9e35_0242ac1c0002row5_col5\" class=\"data row5 col5\" >1.000000</td>\n",
              "                        <td id=\"T_f016afa8_188b_11ec_9e35_0242ac1c0002row5_col6\" class=\"data row5 col6\" >0.404096</td>\n",
              "                        <td id=\"T_f016afa8_188b_11ec_9e35_0242ac1c0002row5_col7\" class=\"data row5 col7\" >-0.369260</td>\n",
              "            </tr>\n",
              "            <tr>\n",
              "                        <th id=\"T_f016afa8_188b_11ec_9e35_0242ac1c0002level0_row6\" class=\"row_heading level0 row6\" >SSD</th>\n",
              "                        <td id=\"T_f016afa8_188b_11ec_9e35_0242ac1c0002row6_col0\" class=\"data row6 col0\" >0.599552</td>\n",
              "                        <td id=\"T_f016afa8_188b_11ec_9e35_0242ac1c0002row6_col1\" class=\"data row6 col1\" >-0.056985</td>\n",
              "                        <td id=\"T_f016afa8_188b_11ec_9e35_0242ac1c0002row6_col2\" class=\"data row6 col2\" >0.669808</td>\n",
              "                        <td id=\"T_f016afa8_188b_11ec_9e35_0242ac1c0002row6_col3\" class=\"data row6 col3\" >0.215197</td>\n",
              "                        <td id=\"T_f016afa8_188b_11ec_9e35_0242ac1c0002row6_col4\" class=\"data row6 col4\" >0.252142</td>\n",
              "                        <td id=\"T_f016afa8_188b_11ec_9e35_0242ac1c0002row6_col5\" class=\"data row6 col5\" >0.404096</td>\n",
              "                        <td id=\"T_f016afa8_188b_11ec_9e35_0242ac1c0002row6_col6\" class=\"data row6 col6\" >1.000000</td>\n",
              "                        <td id=\"T_f016afa8_188b_11ec_9e35_0242ac1c0002row6_col7\" class=\"data row6 col7\" >-0.400625</td>\n",
              "            </tr>\n",
              "            <tr>\n",
              "                        <th id=\"T_f016afa8_188b_11ec_9e35_0242ac1c0002level0_row7\" class=\"row_heading level0 row7\" >HHD</th>\n",
              "                        <td id=\"T_f016afa8_188b_11ec_9e35_0242ac1c0002row7_col0\" class=\"data row7 col0\" >0.097340</td>\n",
              "                        <td id=\"T_f016afa8_188b_11ec_9e35_0242ac1c0002row7_col1\" class=\"data row7 col1\" >0.510876</td>\n",
              "                        <td id=\"T_f016afa8_188b_11ec_9e35_0242ac1c0002row7_col2\" class=\"data row7 col2\" >-0.098481</td>\n",
              "                        <td id=\"T_f016afa8_188b_11ec_9e35_0242ac1c0002row7_col3\" class=\"data row7 col3\" >-0.090411</td>\n",
              "                        <td id=\"T_f016afa8_188b_11ec_9e35_0242ac1c0002row7_col4\" class=\"data row7 col4\" >-0.205105</td>\n",
              "                        <td id=\"T_f016afa8_188b_11ec_9e35_0242ac1c0002row7_col5\" class=\"data row7 col5\" >-0.369260</td>\n",
              "                        <td id=\"T_f016afa8_188b_11ec_9e35_0242ac1c0002row7_col6\" class=\"data row7 col6\" >-0.400625</td>\n",
              "                        <td id=\"T_f016afa8_188b_11ec_9e35_0242ac1c0002row7_col7\" class=\"data row7 col7\" >1.000000</td>\n",
              "            </tr>\n",
              "    </tbody></table>"
            ],
            "text/plain": [
              "<pandas.io.formats.style.Styler at 0x7f226b1b1650>"
            ]
          },
          "metadata": {},
          "execution_count": 169
        }
      ]
    },
    {
      "cell_type": "code",
      "metadata": {
        "id": "Yp4UAf04WRpC"
      },
      "source": [
        ""
      ],
      "execution_count": null,
      "outputs": []
    }
  ]
}